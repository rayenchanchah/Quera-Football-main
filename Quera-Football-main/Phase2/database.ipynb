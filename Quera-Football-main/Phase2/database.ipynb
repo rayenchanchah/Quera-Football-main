{
 "cells": [
  {
   "attachments": {},
   "cell_type": "markdown",
   "metadata": {},
   "source": [
    "💭Tables: [https://viewer.diagrams.net](https://viewer.diagrams.net/?tags=%7B%7D&highlight=0000ff&layers=1&nav=1#R7V1bc5s4FP41mWkfnBF3eHSTtpvdpJekm15ePDLINi0BF8tNnF%2B%2FAgQGSTYYC9vxeqc7LUI3pE%2Bfzjk6Rz7TLh6e3sdwOrmJPBScqcB7OtMuz1RVtSyd%2FJWkLLIUxVSVLGUc%2Bx5NWybc%2Bc%2BIJgKaOvc9NKtkxFEUYH9aTXSjMEQurqTBOI4eq9lGUVBtdQrHiEu4c2HAp371PTzJUm3VWqb%2FhfzxJG9ZMZ3szQPMM9MvmU2gFz2WkrS3Z9pFHEU4%2B9fD0wUKktHLxyUr927F26JjMQpxkwJPdvD59xz%2B0u%2BvjA%2BzD4Zx9VPr0Vr%2BwGBOP%2Fgimoc4XtA%2B40U%2BELNH%2FyGAIXl64078wLuGi2ieNDzD0P2VP72ZRLH%2FHIUYBuSVQhLI6xjTeTVAJcddUpIkJ6kxadZDHi00Iu9pGUXPn2lfQFppHP0qJkRNyqMZyf8pHw1QJF3DGc67ks9A8taDs0naXvIAA38ckn%2B7pDSKk4TYpe0nzT9OfIzuptBNEh4J0pPPwA%2F5J478ILiIgihOR0ob2S5y3aKXpTdD29DTMeDnLp8IFGP0VEqic%2FkeRQ8onRZA3%2FY0jQKLLq2e6tCExyVQlTxtUgEpTYR0cYyL2pf4If%2BgENoATioHpzPVDDCdwXSZ5oNh%2Fp4nyCdDoQHyHxmwUpI5Tv6mUBxcXea1kE5lFWUZXl19%2BPI6fzeM2XIhfECv7vu3F3%2F1b0nbivGaQ3U%2B8QEaYW7GwiiFe3l6adKMYMEPx9dpqUudQWyCx2QifUIjfdoAjqY5JOGwwHEcYYhLzwQROVhL%2BOLRsnYt10OIIsZoiBezK7jkOCzTTzAfnrinNfcMFc8bAQ7J5I0CLM1BkrjHYahH0QRQskXUo3aGJX4r24p7CA5XE0%2FTmjWNr7lCWivqLXFZ0g%2BGyDQgID2Cdc%2BfP2R5%2FxAMTWD8yliX04UJi%2BFFkVsFr4%2BcIUFjpK%2BhSBGuLQmw9m%2F6gfdjfPPtGj%2FH08XztHd3X3S5NCPIIxIqfYxiPInGUQiDt8vUEqElQ7bMcx0lY5yO2E%2BE8YJOB5zjqDqe6MnH35Li5wZ9%2Bl56c%2FlEa04fFvRhwzmYRfPYRQ0WNOHwMVpbI82YjMvaOY1RALH%2FpyrZyyciXgi6Q3AWhadtrfW25gEXIVW0rRmmoViStjVGoBatfVOw9p3OtjRN6paWoXBjafo7IltD9uqYtwa1MVo2hIfeGTz0lUQDrsJRdOKb9io89BzPEPENRLqiqXL4RrVZMVqkwVsCTBXgkw8qoxPOIXDcmHiatDsaAZCM4qZctzsBfpuvWK%2BENBu25frPax9GsYfiHu1JP53s%2BFWvV05%2FnVVU9Gezfl8jOJ6jjXt%2BR9DobQGGVRPWJ0sSjtEgMfWu6NAoiCB%2B9VrQ8LsoJgsvHEwDuEDx7JUfYkGuvIkHGP9CuNCoFFVU5ReycQXNsl6FblTS58SZPpLGh5Awu1uX8%2B3TFIWej%2BdxXc5bGP5aORXHLAfojVl8jRwg5GzQGWdbHGdfRNCdnASAA7fhWxYjABR2hDp7Q3c6h916%2Fx%2BNRCZ8gsMWBvykFGP10sGRayBWY%2FhsaJzqTANReWGREg%2Fokf9P2ogkMhqNVDEZeebQNEw5ZGQAhow0fd8GENVsRUZ1SsGulZFmJHjE1FbwxMsxrqi8THXvu5hQDZqdqKw1lSHFM5AlojLHtDQoicoshTWsCKlM3yWVtZerRHaVDIubu0bk5RjZyjhy2UqVIluJANMdATnrCOgkX8m19lpQrOzppgF0OaSkM04TIpeJnUpXeQdeuHTVlAqPmd6cxmDcg3xlDxzv89z58f2pDz%2BTlflrMbAFjqfcDNX7ObBDX%2FZgCL1%2B4v5LHt%2FePsBwcca6RYh9HAq3BqGPA0r8CpNCPXAOUqJLU9KC5ypw8oRl6fSpUvwTin0yhglrrfCboGNT7yFBx6zeQ4LK37UeEmU4AAEcisTGrhS0jU%2BRn67s%2FKTdZLiQPc%2FKvp2WWkKNq0hnKuIOxrKx4SpKMVt8eHsYi07L9gVjqwWOFQbCRg2CtwCr1RCs6gmsHYFVZE3ZD1iVcwAqaD1X1PXeZcmDROY0XioYdZVRbW2miqZgtJmKOBdGeWAUS588dX6c45GPk%2Fk96TKtPeUgskdCXcZ0bTQcydFlehprYbFEFhZRMEF36kytsXgfrhCfUreBAen5CuVE7E9QLIX%2FWxCLJsVULAJed6qMSI9%2BSUIg0WUAIwhmPm671GVAwx05d9A4mB157%2BIhwQZclLJNkwyzNSKEUaVuxbCYNZDVKFX2FDir7m%2BRNA9q2IOilJ8U1K6E3H53WgmyFSWhE%2ByOwVqQ84bAK1SsinplrEX5FrTdWJFyTmDtRpHSeWbNhM7TMZFsNxxkrnDDsZwhkOUTyChWhcJfG9XfWWit3i4m4NAOiqgqttMmo5mP%2FRZBV7SvmY%2F4IB343GE7UQLV41YCC0qTrgTKiNMVC2N8rF7BwifGbWvMMpDt6SLGtdWhZkryFurpbByWkYs1tdcZOEZXeBLpS%2B39hVpy33siX4VCR2wuTGYeBGxGS5TxEmI0iEaDNz4RmlnDFucITtjzGYWziT%2Btu%2F%2BAfKGbVjxkKhZ3N4pwKY8pyJJd61SzKfApGQmuNzYGcDpDqb1xWcu7ZUVgmeUNRWDfBlNcsUIuoZknKsCq2ikJzCi9V%2FIBLtcUet76XFnfV2dgxmAYeQsuMRaOSr6c%2Bop%2BbjDfWFpqxUc6omZB%2Boe24zVqZ6uhbdyxVSgh8530k08U5hQNZ5KeQe1%2FEJVV7K7SYyMUXQKDi40ICjclL%2FvmjnwSao0C%2Bd5Vb8FqasuVfnOHeMbU%2FZt96PSl%2FkXqWdmEoxna2lkUnZCvMl92Z71sPKU7s%2FMwwp3GngM1tfP0OK9yjeWOrs2SvEvwzvHZ1h7extuuPQqVpgykHxxcuZBQ1qxzgHZJIVoLRewA0MoY0a3maCWaZoWFAVA3ZuEt2FR7qTju6SxbGlpLIKtMYKLGXl8q6VyUdFlhukyXzMotQTHZj9y4RH6Nq6zTVyE8DN43JjdNnuxTB2%2BfYi%2F6tQCv3BQXZu%2FmSMDgwyO3Mk%2B1tpPnBRnTk3rkAW3Fgt5GIRZiRoaF%2FO2j%2Fw5%2BjS1jcTf4Z%2Fj9eubOhwcU8VE9GlfXn42XvKRMRyvLEdUYkN24SRlNvegPRyCg%2BNPbnq%2BzArHW0FF50%2B2fkEa1IZNKX93uzHxc8JcYhrPRyQt6m2uwoWt7mmhjJvq%2FbniSNmaVCeksLtavC6tTOrtS3RDZCHZ%2BZp4c8tSd7SQbat2hzt9kiSKvLtfNfflsXNTWO7S870w1jvyW64JSpEeDSvnhCKFwcADeods63JUkiTYm900NrLUSQM4E%2B5cA8g3WqLKlzpJgY0usytgWuvKU7uka4yud%2FxbGyq6ZnP1u0xKKbXcvdpi8NE5EAXwyBhx85JXBGpBsAXmLXJ%2FUzn71x1QPQeboT6cIxsklqLOSOCCSBt5HMCjn0US1zfwZrsv0nQxO9DhwYeyVs6qiu22RG4XeYNG8xC3yGuW78cM5RrPsglqvlNla9ekD0hUXeZXMQu%2BbAMFwQNYLwuyQHrH4ZDZfkxs6H0qR%2Br0rPLgdOrc%2FPsx%2FfgWDsfpVAU1sK%2FsLnQHnpm1WhSoAau0mtdKeZMtKY7kqx8fhyFWMAGG1tbSwZ49mdyeGQhSLfu5iT0pAYttbSv4UtHotaFsbGFvhWDiITWF8OHGUOWzbHg8yqC0cPnaEWl51DdLr70%2BidHvzHUAaMkWiNEA2IPqRHFHaZpU7R%2BD2LbrKXcq5mhBMtZE2Xd5hsOp0LsPzmjsMWIFcUi9l3Lyb%2FRJo865Xvlj0u3vHIfmuZTLpP30g40xR2OMNbzQin%2B%2FjxW26T0Vh16bDhsICOHec6l1IOqiRGOTehcQLDOuoaf%2FyQuFKo7OmthcgQhhPk3%2BV8N9J3%2FvpXf2G9tXo7WfBzyZnNpCzU8zulpLEbmJ2ew4XtStytxAdqXDunW24UQiq2h8P7FqUEP0eyJReh5Siev%2FCxB5vhGpu3nypA6ClKOC7cDfxYzwI5w%2FDhOHEY1AK3%2BtuLC7gdNbtaGeW5k6b6I8Jb60Od5TaljuPE5YcuMF8yN4e31GTebhoQLaOxG6NY%2Bji1a4FnayVJiGddXXnG0GSR7GdKWaXEB90qBpKdZHtO56zm8HddtaK7TQd2jy4s%2FK1G4Zrrogg3b5LEkDQ8FMu6EoZ%2FGQ9aEoLposg1I5WjGo3GaxU%2BTytmGNdMe1AsOmKQU9Tn6gru1syx2FRWqvYbuWlLvREk2FSur%2Ftf1YnN8%2B%2F54ur9%2B67S%2B3p%2Bo%2FgKPWamvNBKs2dlPFtfsdulBrvOWVcMzVHk%2BSVqzDOYcWpe9kwZYgwJcNBRogp3r7DqGFtfl15U5v2Nk3SK7s2bVK8YF4owa1li61M5iIwynAV6d3HwSJ%2B%2BOD%2BHH9WlH%2FuPt0N7nqiwK0uD9m9j9nsJWwneiEpYnclcbw4uzbLX6rW8ob%2FnsI43PZYUElyk%2BV7XBcEu22BnuKozErYzkm2N%2Fj04%2BPtl1sQvfnm672%2F3zx%2Fvdx5xNqGSyU%2FPzrbwNlk5TIpHxOtY7qDWSY9zm26rddTtZ6GRz%2BN10jRPUvci2qzsvAslMYPIMhieU99BbXUH3DHtyocDpZtlt%2F0tmjmf5nDlI3ooiVDZ1sytgExeYyjROxcZicaxeQm8lCS4z8%3D)"
   ]
  },
  {
   "cell_type": "code",
   "execution_count": 16,
   "metadata": {},
   "outputs": [],
   "source": [
    "__author__ = \"Zahra Honarvar, Farzaneh Soltanzadeh, Ali Mousavi, Milad Nooraei, Mohamad Ghafaripour\"\n",
    "__email__ = \"Zhpica@gmail.com, f.soltanzadeh.f@gmail.com, ali.mousavi4878@gmail.com, miladnooraiy0@gmail.com\"\n",
    "__mentor__ = \"Diba Aminshahidi\"\n",
    "__organization__ = \"Quera\"\n",
    "__date__ = \"2023-05-29\""
   ]
  },
  {
   "attachments": {},
   "cell_type": "markdown",
   "metadata": {},
   "source": [
    "IMPORT LIBRARIES 📚"
   ]
  },
  {
   "cell_type": "code",
   "execution_count": 17,
   "metadata": {},
   "outputs": [],
   "source": [
    "from sqlalchemy import create_engine\n",
    "from sqlalchemy import URL\n",
    "from sqlalchemy import text\n",
    "from urllib.parse import quote_plus\n",
    "from sqlalchemy.types import Integer, VARCHAR, CHAR\n",
    "from sqlalchemy import ForeignKeyConstraint\n",
    "import pandas as pd "
   ]
  },
  {
   "attachments": {},
   "cell_type": "markdown",
   "metadata": {},
   "source": [
    "Connection and CREATE SCHEMA 📝"
   ]
  },
  {
   "cell_type": "code",
   "execution_count": 18,
   "metadata": {},
   "outputs": [],
   "source": [
    "url_object = URL.create(\n",
    "    \"mysql+mysqlconnector\",\n",
    "    username=\"root\",\n",
    "    password=\"farzansql\",\n",
    "    host=\"localhost\",\n",
    ")"
   ]
  },
  {
   "cell_type": "code",
   "execution_count": 19,
   "metadata": {},
   "outputs": [],
   "source": [
    "engine = create_engine(url_object)"
   ]
  },
  {
   "cell_type": "code",
   "execution_count": 20,
   "metadata": {},
   "outputs": [],
   "source": [
    "with engine.connect() as conn : \n",
    "    conn.execute(text('CREATE Schema football;'))\n",
    "    # conn.execute(text('DROP Schema football;'))"
   ]
  },
  {
   "attachments": {},
   "cell_type": "markdown",
   "metadata": {},
   "source": [
    "Read Clubs Data 📗"
   ]
  },
  {
   "cell_type": "code",
   "execution_count": 22,
   "metadata": {},
   "outputs": [],
   "source": [
    "df_club = pd.read_csv('Phase1\\data\\club.csv', index_col=0)\n",
    "df_club_players = pd.read_csv('Phase1\\data\\club_players.csv', index_col=0)\n",
    "df_league_goals = pd.read_csv('Phase1\\data\\league_goals.csv', index_col=0)"
   ]
  },
  {
   "attachments": {},
   "cell_type": "markdown",
   "metadata": {},
   "source": [
    "Read Players Data 📗"
   ]
  },
  {
   "cell_type": "code",
   "execution_count": 23,
   "metadata": {},
   "outputs": [],
   "source": [
    "df_players_data = pd.read_csv('Phase1\\data\\players_data.csv', index_col=0)\n",
    "df_players_stats = pd.read_csv('Phase1\\data\\players_stats.csv', index_col=0)\n",
    "df_players_transfers = pd.read_csv('Phase1\\data\\players_transfers.csv', index_col=0)"
   ]
  },
  {
   "attachments": {},
   "cell_type": "markdown",
   "metadata": {},
   "source": [
    "CREATE TABLE Country ⚽️"
   ]
  },
  {
   "cell_type": "code",
   "execution_count": 24,
   "metadata": {},
   "outputs": [
    {
     "data": {
      "text/html": [
       "<div>\n",
       "<style scoped>\n",
       "    .dataframe tbody tr th:only-of-type {\n",
       "        vertical-align: middle;\n",
       "    }\n",
       "\n",
       "    .dataframe tbody tr th {\n",
       "        vertical-align: top;\n",
       "    }\n",
       "\n",
       "    .dataframe thead th {\n",
       "        text-align: right;\n",
       "    }\n",
       "</style>\n",
       "<table border=\"1\" class=\"dataframe\">\n",
       "  <thead>\n",
       "    <tr style=\"text-align: right;\">\n",
       "      <th></th>\n",
       "      <th>country_name</th>\n",
       "    </tr>\n",
       "    <tr>\n",
       "      <th>country_id</th>\n",
       "      <th></th>\n",
       "    </tr>\n",
       "  </thead>\n",
       "  <tbody>\n",
       "    <tr>\n",
       "      <th>189</th>\n",
       "      <td>England</td>\n",
       "    </tr>\n",
       "    <tr>\n",
       "      <th>40</th>\n",
       "      <td>Germany</td>\n",
       "    </tr>\n",
       "    <tr>\n",
       "      <th>75</th>\n",
       "      <td>Italy</td>\n",
       "    </tr>\n",
       "    <tr>\n",
       "      <th>50</th>\n",
       "      <td>France</td>\n",
       "    </tr>\n",
       "    <tr>\n",
       "      <th>157</th>\n",
       "      <td>Spain</td>\n",
       "    </tr>\n",
       "  </tbody>\n",
       "</table>\n",
       "</div>"
      ],
      "text/plain": [
       "           country_name\n",
       "country_id             \n",
       "189             England\n",
       "40              Germany\n",
       "75                Italy\n",
       "50               France\n",
       "157               Spain"
      ]
     },
     "execution_count": 24,
     "metadata": {},
     "output_type": "execute_result"
    }
   ],
   "source": [
    "table_country = df_club.loc[:, ['CountryID', 'Country']].drop_duplicates()\n",
    "table_country = table_country.rename(columns={'CountryID': 'country_id', 'Country': 'country_name'}).set_index('country_id')\n",
    "table_country"
   ]
  },
  {
   "cell_type": "code",
   "execution_count": 25,
   "metadata": {},
   "outputs": [],
   "source": [
    "with engine.connect() as conn:\n",
    "    table_country.to_sql(name='country', con=conn, schema='football', if_exists='replace', chunksize=50, method='multi',\n",
    "                          index_label= 'country_id', dtype={'country_id': Integer(), 'country_name': VARCHAR(15)})\n"
   ]
  },
  {
   "attachments": {},
   "cell_type": "markdown",
   "metadata": {},
   "source": [
    "CREATE TABLE League ⚽️"
   ]
  },
  {
   "cell_type": "code",
   "execution_count": 26,
   "metadata": {},
   "outputs": [
    {
     "data": {
      "text/html": [
       "<div>\n",
       "<style scoped>\n",
       "    .dataframe tbody tr th:only-of-type {\n",
       "        vertical-align: middle;\n",
       "    }\n",
       "\n",
       "    .dataframe tbody tr th {\n",
       "        vertical-align: top;\n",
       "    }\n",
       "\n",
       "    .dataframe thead th {\n",
       "        text-align: right;\n",
       "    }\n",
       "</style>\n",
       "<table border=\"1\" class=\"dataframe\">\n",
       "  <thead>\n",
       "    <tr style=\"text-align: right;\">\n",
       "      <th></th>\n",
       "      <th>league_name</th>\n",
       "      <th>country_id</th>\n",
       "    </tr>\n",
       "    <tr>\n",
       "      <th>league_id</th>\n",
       "      <th></th>\n",
       "      <th></th>\n",
       "    </tr>\n",
       "  </thead>\n",
       "  <tbody>\n",
       "    <tr>\n",
       "      <th>1</th>\n",
       "      <td>Premier League</td>\n",
       "      <td>189</td>\n",
       "    </tr>\n",
       "    <tr>\n",
       "      <th>2</th>\n",
       "      <td>Bundesliga</td>\n",
       "      <td>40</td>\n",
       "    </tr>\n",
       "    <tr>\n",
       "      <th>3</th>\n",
       "      <td>Serie A</td>\n",
       "      <td>75</td>\n",
       "    </tr>\n",
       "    <tr>\n",
       "      <th>4</th>\n",
       "      <td>Ligue 1</td>\n",
       "      <td>50</td>\n",
       "    </tr>\n",
       "    <tr>\n",
       "      <th>5</th>\n",
       "      <td>LaLiga</td>\n",
       "      <td>157</td>\n",
       "    </tr>\n",
       "  </tbody>\n",
       "</table>\n",
       "</div>"
      ],
      "text/plain": [
       "              league_name  country_id\n",
       "league_id                            \n",
       "1          Premier League         189\n",
       "2              Bundesliga          40\n",
       "3                 Serie A          75\n",
       "4                 Ligue 1          50\n",
       "5                  LaLiga         157"
      ]
     },
     "execution_count": 26,
     "metadata": {},
     "output_type": "execute_result"
    }
   ],
   "source": [
    "table_league = df_club.loc[:, ['League', 'CountryID']].drop_duplicates().assign(league_id=range(1, 6)).set_index('league_id')\n",
    "table_league = table_league.rename(columns={'League': 'league_name', 'CountryID': 'country_id'})\n",
    "table_league"
   ]
  },
  {
   "cell_type": "code",
   "execution_count": 27,
   "metadata": {},
   "outputs": [],
   "source": [
    "query_league = text(\"\"\"\n",
    "CREATE TABLE league (\n",
    "league_id INT NOT NULL AUTO_INCREMENT,\n",
    "league_name VARCHAR(30) NOT NULL,\n",
    "country_id INT NOT NULL,\n",
    "PRIMARY KEY (league_id),\n",
    "FOREIGN KEY (country_id) REFERENCES country(country_id)\n",
    ");\"\"\")"
   ]
  },
  {
   "cell_type": "code",
   "execution_count": 28,
   "metadata": {},
   "outputs": [],
   "source": [
    "with engine.connect() as conn:\n",
    "    conn.execute(text('USE football;'))\n",
    "    conn.execute(query_league)"
   ]
  },
  {
   "cell_type": "code",
   "execution_count": 29,
   "metadata": {},
   "outputs": [],
   "source": [
    "with engine.connect() as conn:\n",
    "    table_league.to_sql(name='league', con=conn, schema='football', if_exists='append', chunksize=50, method='multi')"
   ]
  },
  {
   "attachments": {},
   "cell_type": "markdown",
   "metadata": {},
   "source": [
    "CREATE TABLE Club ⚽️"
   ]
  },
  {
   "cell_type": "code",
   "execution_count": 30,
   "metadata": {},
   "outputs": [
    {
     "data": {
      "text/html": [
       "<div>\n",
       "<style scoped>\n",
       "    .dataframe tbody tr th:only-of-type {\n",
       "        vertical-align: middle;\n",
       "    }\n",
       "\n",
       "    .dataframe tbody tr th {\n",
       "        vertical-align: top;\n",
       "    }\n",
       "\n",
       "    .dataframe thead th {\n",
       "        text-align: right;\n",
       "    }\n",
       "</style>\n",
       "<table border=\"1\" class=\"dataframe\">\n",
       "  <thead>\n",
       "    <tr style=\"text-align: right;\">\n",
       "      <th></th>\n",
       "      <th>club_name</th>\n",
       "      <th>stadium_name</th>\n",
       "      <th>stadium_capacity</th>\n",
       "    </tr>\n",
       "    <tr>\n",
       "      <th>club_id</th>\n",
       "      <th></th>\n",
       "      <th></th>\n",
       "      <th></th>\n",
       "    </tr>\n",
       "  </thead>\n",
       "  <tbody>\n",
       "    <tr>\n",
       "      <th>631</th>\n",
       "      <td>Chelsea FC</td>\n",
       "      <td>Stamford Bridge</td>\n",
       "      <td>40.853 Seats</td>\n",
       "    </tr>\n",
       "    <tr>\n",
       "      <th>281</th>\n",
       "      <td>Manchester City</td>\n",
       "      <td>Etihad Stadium</td>\n",
       "      <td>55.017 Seats</td>\n",
       "    </tr>\n",
       "    <tr>\n",
       "      <th>11</th>\n",
       "      <td>Arsenal FC</td>\n",
       "      <td>Emirates Stadium</td>\n",
       "      <td>60.704 Seats</td>\n",
       "    </tr>\n",
       "  </tbody>\n",
       "</table>\n",
       "</div>"
      ],
      "text/plain": [
       "               club_name      stadium_name stadium_capacity\n",
       "club_id                                                    \n",
       "631           Chelsea FC   Stamford Bridge     40.853 Seats\n",
       "281      Manchester City    Etihad Stadium     55.017 Seats\n",
       "11            Arsenal FC  Emirates Stadium     60.704 Seats"
      ]
     },
     "execution_count": 30,
     "metadata": {},
     "output_type": "execute_result"
    }
   ],
   "source": [
    "table_club = df_club.loc[:, ['ClubID', 'Club', 'Stadium', 'StadiumCap']].drop_duplicates()\n",
    "table_club = table_club.rename(columns={'ClubID': 'club_id', 'Club': 'club_name', 'Stadium': 'stadium_name', 'StadiumCap': 'stadium_capacity'}).set_index('club_id')\n",
    "table_club.head(3)"
   ]
  },
  {
   "cell_type": "code",
   "execution_count": 31,
   "metadata": {},
   "outputs": [],
   "source": [
    "with engine.connect() as conn:\n",
    "    table_club.to_sql(name='club', con=conn, schema='football', if_exists='replace', chunksize=50, method='multi',\n",
    "                          index_label= 'club_id', dtype={'club_id': Integer(), 'club_name': VARCHAR(30), \n",
    "                                                         'stadium_name': VARCHAR(50), 'stadium_capacity': VARCHAR(20)})\n"
   ]
  },
  {
   "attachments": {},
   "cell_type": "markdown",
   "metadata": {},
   "source": [
    "CREATE TABLE Season ⚽️"
   ]
  },
  {
   "cell_type": "code",
   "execution_count": 32,
   "metadata": {},
   "outputs": [
    {
     "data": {
      "text/html": [
       "<div>\n",
       "<style scoped>\n",
       "    .dataframe tbody tr th:only-of-type {\n",
       "        vertical-align: middle;\n",
       "    }\n",
       "\n",
       "    .dataframe tbody tr th {\n",
       "        vertical-align: top;\n",
       "    }\n",
       "\n",
       "    .dataframe thead th {\n",
       "        text-align: right;\n",
       "    }\n",
       "</style>\n",
       "<table border=\"1\" class=\"dataframe\">\n",
       "  <thead>\n",
       "    <tr style=\"text-align: right;\">\n",
       "      <th></th>\n",
       "      <th>year</th>\n",
       "    </tr>\n",
       "    <tr>\n",
       "      <th>season_id</th>\n",
       "      <th></th>\n",
       "    </tr>\n",
       "  </thead>\n",
       "  <tbody>\n",
       "    <tr>\n",
       "      <th>1</th>\n",
       "      <td>2015</td>\n",
       "    </tr>\n",
       "    <tr>\n",
       "      <th>2</th>\n",
       "      <td>2016</td>\n",
       "    </tr>\n",
       "    <tr>\n",
       "      <th>3</th>\n",
       "      <td>2017</td>\n",
       "    </tr>\n",
       "    <tr>\n",
       "      <th>4</th>\n",
       "      <td>2018</td>\n",
       "    </tr>\n",
       "    <tr>\n",
       "      <th>5</th>\n",
       "      <td>2019</td>\n",
       "    </tr>\n",
       "    <tr>\n",
       "      <th>6</th>\n",
       "      <td>2020</td>\n",
       "    </tr>\n",
       "    <tr>\n",
       "      <th>7</th>\n",
       "      <td>2021</td>\n",
       "    </tr>\n",
       "  </tbody>\n",
       "</table>\n",
       "</div>"
      ],
      "text/plain": [
       "           year\n",
       "season_id      \n",
       "1          2015\n",
       "2          2016\n",
       "3          2017\n",
       "4          2018\n",
       "5          2019\n",
       "6          2020\n",
       "7          2021"
      ]
     },
     "execution_count": 32,
     "metadata": {},
     "output_type": "execute_result"
    }
   ],
   "source": [
    "table_season = df_club.loc[:, ['Season']].drop_duplicates()\n",
    "table_season = table_season.assign(season_id=range(1, len(table_season) + 1)).set_index('season_id').rename(columns={'Season': 'year'})\n",
    "table_season"
   ]
  },
  {
   "cell_type": "code",
   "execution_count": 33,
   "metadata": {},
   "outputs": [],
   "source": [
    "with engine.connect() as conn:\n",
    "    table_season.to_sql(name='season', con=conn, schema='football', if_exists='replace', chunksize=50, method='multi',\n",
    "                          index_label= 'season_id', dtype={'season_id': Integer(), 'year': Integer()})\n"
   ]
  },
  {
   "attachments": {},
   "cell_type": "markdown",
   "metadata": {},
   "source": [
    "CREATE TABLE Season_info ⚽️"
   ]
  },
  {
   "cell_type": "code",
   "execution_count": 34,
   "metadata": {},
   "outputs": [
    {
     "data": {
      "text/plain": [
       "{'Premier League': 1, 'Bundesliga': 2, 'Serie A': 3, 'Ligue 1': 4, 'LaLiga': 5}"
      ]
     },
     "execution_count": 34,
     "metadata": {},
     "output_type": "execute_result"
    }
   ],
   "source": [
    "league_dict = dict(zip(table_league['league_name'], table_league.index))\n",
    "league_dict"
   ]
  },
  {
   "cell_type": "code",
   "execution_count": 35,
   "metadata": {},
   "outputs": [
    {
     "data": {
      "text/plain": [
       "{2015: 1, 2016: 2, 2017: 3, 2018: 4, 2019: 5, 2020: 6, 2021: 7}"
      ]
     },
     "execution_count": 35,
     "metadata": {},
     "output_type": "execute_result"
    }
   ],
   "source": [
    "season_dict = dict(zip(table_season['year'], table_season.index))\n",
    "season_dict"
   ]
  },
  {
   "cell_type": "code",
   "execution_count": 36,
   "metadata": {},
   "outputs": [
    {
     "data": {
      "text/html": [
       "<div>\n",
       "<style scoped>\n",
       "    .dataframe tbody tr th:only-of-type {\n",
       "        vertical-align: middle;\n",
       "    }\n",
       "\n",
       "    .dataframe tbody tr th {\n",
       "        vertical-align: top;\n",
       "    }\n",
       "\n",
       "    .dataframe thead th {\n",
       "        text-align: right;\n",
       "    }\n",
       "</style>\n",
       "<table border=\"1\" class=\"dataframe\">\n",
       "  <thead>\n",
       "    <tr style=\"text-align: right;\">\n",
       "      <th></th>\n",
       "      <th>season_id</th>\n",
       "      <th>league_id</th>\n",
       "      <th>club_id</th>\n",
       "      <th>club_rank</th>\n",
       "      <th>squad</th>\n",
       "      <th>avg_age</th>\n",
       "      <th>foreign_players</th>\n",
       "      <th>avg_marketValue</th>\n",
       "      <th>total_marketValue</th>\n",
       "      <th>income</th>\n",
       "      <th>expenditure</th>\n",
       "      <th>overbalance</th>\n",
       "    </tr>\n",
       "    <tr>\n",
       "      <th>season_info_id</th>\n",
       "      <th></th>\n",
       "      <th></th>\n",
       "      <th></th>\n",
       "      <th></th>\n",
       "      <th></th>\n",
       "      <th></th>\n",
       "      <th></th>\n",
       "      <th></th>\n",
       "      <th></th>\n",
       "      <th></th>\n",
       "      <th></th>\n",
       "      <th></th>\n",
       "    </tr>\n",
       "  </thead>\n",
       "  <tbody>\n",
       "    <tr>\n",
       "      <th>1</th>\n",
       "      <td>1</td>\n",
       "      <td>1</td>\n",
       "      <td>631</td>\n",
       "      <td>10.0</td>\n",
       "      <td>40</td>\n",
       "      <td>24.7</td>\n",
       "      <td>31</td>\n",
       "      <td>€13.84m</td>\n",
       "      <td>€553.50m</td>\n",
       "      <td>€87.49m</td>\n",
       "      <td>€96.50m</td>\n",
       "      <td>€-9.01m</td>\n",
       "    </tr>\n",
       "    <tr>\n",
       "      <th>2</th>\n",
       "      <td>1</td>\n",
       "      <td>1</td>\n",
       "      <td>281</td>\n",
       "      <td>4.0</td>\n",
       "      <td>38</td>\n",
       "      <td>25.4</td>\n",
       "      <td>27</td>\n",
       "      <td>€13.14m</td>\n",
       "      <td>€499.35m</td>\n",
       "      <td>€67.44m</td>\n",
       "      <td>€208.47m</td>\n",
       "      <td>€-141.03m</td>\n",
       "    </tr>\n",
       "    <tr>\n",
       "      <th>3</th>\n",
       "      <td>1</td>\n",
       "      <td>1</td>\n",
       "      <td>11</td>\n",
       "      <td>2.0</td>\n",
       "      <td>41</td>\n",
       "      <td>24.7</td>\n",
       "      <td>29</td>\n",
       "      <td>€11.17m</td>\n",
       "      <td>€457.85m</td>\n",
       "      <td>€2.50m</td>\n",
       "      <td>€26.50m</td>\n",
       "      <td>€-24.00m</td>\n",
       "    </tr>\n",
       "  </tbody>\n",
       "</table>\n",
       "</div>"
      ],
      "text/plain": [
       "                season_id  league_id  club_id  club_rank  squad  avg_age   \n",
       "season_info_id                                                             \n",
       "1                       1          1      631       10.0     40     24.7  \\\n",
       "2                       1          1      281        4.0     38     25.4   \n",
       "3                       1          1       11        2.0     41     24.7   \n",
       "\n",
       "                foreign_players avg_marketValue total_marketValue   income   \n",
       "season_info_id                                                               \n",
       "1                            31         €13.84m          €553.50m  €87.49m  \\\n",
       "2                            27         €13.14m          €499.35m  €67.44m   \n",
       "3                            29         €11.17m          €457.85m   €2.50m   \n",
       "\n",
       "               expenditure overbalance  \n",
       "season_info_id                          \n",
       "1                  €96.50m     €-9.01m  \n",
       "2                 €208.47m   €-141.03m  \n",
       "3                  €26.50m    €-24.00m  "
      ]
     },
     "execution_count": 36,
     "metadata": {},
     "output_type": "execute_result"
    }
   ],
   "source": [
    "table_season_info = df_club.loc[:, ['Season', 'League', 'ClubID', 'Rank', 'Squad', \n",
    "                                    'avgAge', 'Foreigners', 'avgMarketValue', 'totalMarketValue', \n",
    "                                    'Club_income', 'Club_expenditure', 'Club_OverallBalance']]\n",
    "                                    \n",
    "table_season_info['League'] = table_season_info['League'].map(league_dict)\n",
    "table_season_info['Season'] = table_season_info['Season'].map(season_dict)\n",
    "\n",
    "table_season_info = table_season_info.rename(columns={'Season': 'season_id', 'League': 'league_id', 'ClubID': 'club_id',\n",
    "                          'Rank': 'club_rank', 'Squad': 'squad', 'avgAge': 'avg_age',\n",
    "                          'Foreigners': 'foreign_players', 'avgMarketValue': 'avg_marketValue',\n",
    "                          'totalMarketValue': 'total_marketValue', 'Club_income': 'income',\n",
    "                          'Club_expenditure': 'expenditure', 'Club_OverallBalance': 'overbalance'})\n",
    "\n",
    "table_season_info = table_season_info.assign(season_info_id=range(1, len(table_season_info)+1)).set_index('season_info_id')\n",
    "table_season_info.head(3)"
   ]
  },
  {
   "cell_type": "code",
   "execution_count": 37,
   "metadata": {},
   "outputs": [],
   "source": [
    "query_season_info = text(\"\"\"\n",
    "CREATE TABLE season_info (\n",
    "season_info_id INT NOT NULL AUTO_INCREMENT,\n",
    "season_id INT NOT NULL,\n",
    "league_id INT NOT NULL,\n",
    "club_id INT NOT NULL,\n",
    "club_rank INT,\n",
    "squad INT,\n",
    "avg_age FLOAT,\n",
    "foreign_players INT,\n",
    "avg_marketValue VARCHAR(12),\n",
    "total_marketValue VARCHAR(12),\n",
    "income VARCHAR(12),\n",
    "overbalance VARCHAR(12),\n",
    "expenditure VARCHAR(12),\n",
    "PRIMARY KEY (season_info_id),\n",
    "FOREIGN KEY (season_id) REFERENCES season(season_id),\n",
    "FOREIGN KEY (league_id) REFERENCES league(league_id),\n",
    "FOREIGN KEY (club_id) REFERENCES club(club_id)\n",
    ");\"\"\")"
   ]
  },
  {
   "cell_type": "code",
   "execution_count": 38,
   "metadata": {},
   "outputs": [],
   "source": [
    "with engine.connect() as conn:\n",
    "    conn.execute(text('USE football;'))\n",
    "    conn.execute(query_season_info)"
   ]
  },
  {
   "cell_type": "code",
   "execution_count": 39,
   "metadata": {},
   "outputs": [],
   "source": [
    "with engine.connect() as conn:\n",
    "    table_season_info.to_sql(name='season_info', con=conn, schema='football', if_exists='append', chunksize=50, method='multi')"
   ]
  },
  {
   "attachments": {},
   "cell_type": "markdown",
   "metadata": {},
   "source": [
    "CREATE TABLE League_Goals ⚽️"
   ]
  },
  {
   "cell_type": "code",
   "execution_count": 40,
   "metadata": {},
   "outputs": [
    {
     "data": {
      "text/html": [
       "<div>\n",
       "<style scoped>\n",
       "    .dataframe tbody tr th:only-of-type {\n",
       "        vertical-align: middle;\n",
       "    }\n",
       "\n",
       "    .dataframe tbody tr th {\n",
       "        vertical-align: top;\n",
       "    }\n",
       "\n",
       "    .dataframe thead th {\n",
       "        text-align: right;\n",
       "    }\n",
       "</style>\n",
       "<table border=\"1\" class=\"dataframe\">\n",
       "  <thead>\n",
       "    <tr style=\"text-align: right;\">\n",
       "      <th></th>\n",
       "      <th>league_id</th>\n",
       "      <th>season_id</th>\n",
       "      <th>goals</th>\n",
       "    </tr>\n",
       "    <tr>\n",
       "      <th>id</th>\n",
       "      <th></th>\n",
       "      <th></th>\n",
       "      <th></th>\n",
       "    </tr>\n",
       "  </thead>\n",
       "  <tbody>\n",
       "    <tr>\n",
       "      <th>1</th>\n",
       "      <td>1</td>\n",
       "      <td>1</td>\n",
       "      <td>1026</td>\n",
       "    </tr>\n",
       "    <tr>\n",
       "      <th>2</th>\n",
       "      <td>1</td>\n",
       "      <td>2</td>\n",
       "      <td>1064</td>\n",
       "    </tr>\n",
       "    <tr>\n",
       "      <th>3</th>\n",
       "      <td>1</td>\n",
       "      <td>3</td>\n",
       "      <td>1018</td>\n",
       "    </tr>\n",
       "  </tbody>\n",
       "</table>\n",
       "</div>"
      ],
      "text/plain": [
       "    league_id  season_id  goals\n",
       "id                             \n",
       "1           1          1   1026\n",
       "2           1          2   1064\n",
       "3           1          3   1018"
      ]
     },
     "execution_count": 40,
     "metadata": {},
     "output_type": "execute_result"
    }
   ],
   "source": [
    "table_league_goals = df_league_goals.copy()\n",
    "table_league_goals['League'] = table_league_goals['League'].map(league_dict)\n",
    "table_league_goals['Season'] = table_league_goals['Season'].map(season_dict)\n",
    "\n",
    "table_league_goals = table_league_goals.assign(id=range(1, len(table_league_goals)+1)).set_index('id')\n",
    "table_league_goals.rename(columns={'League': 'league_id', 'Season': 'season_id', 'Goals': 'goals'}, inplace=True)\n",
    "table_league_goals.head(3)"
   ]
  },
  {
   "cell_type": "code",
   "execution_count": 41,
   "metadata": {},
   "outputs": [],
   "source": [
    "query_league_goals = text(\"\"\"\n",
    "CREATE TABLE league_goals (\n",
    "id INT NOT NULL AUTO_INCREMENT,\n",
    "league_id INT NOT NULL,\n",
    "season_id INT NOT NULL,\n",
    "goals INT,\n",
    "PRIMARY KEY (id),\n",
    "FOREIGN KEY (league_id) REFERENCES league(league_id),\n",
    "FOREIGN KEY (season_id) REFERENCES season(season_id)\n",
    ");\"\"\")"
   ]
  },
  {
   "cell_type": "code",
   "execution_count": 42,
   "metadata": {},
   "outputs": [],
   "source": [
    "with engine.connect() as conn:\n",
    "    conn.execute(text('USE football;'))\n",
    "    conn.execute(query_league_goals)"
   ]
  },
  {
   "cell_type": "code",
   "execution_count": 43,
   "metadata": {},
   "outputs": [],
   "source": [
    "with engine.connect() as conn:\n",
    "        table_league_goals.to_sql(name='league_goals', con=conn, schema='football', if_exists='append', chunksize=50, method='multi')\n"
   ]
  },
  {
   "attachments": {},
   "cell_type": "markdown",
   "metadata": {},
   "source": [
    "CREATE TABLE Coach ⚽️"
   ]
  },
  {
   "cell_type": "code",
   "execution_count": 44,
   "metadata": {},
   "outputs": [
    {
     "data": {
      "text/html": [
       "<div>\n",
       "<style scoped>\n",
       "    .dataframe tbody tr th:only-of-type {\n",
       "        vertical-align: middle;\n",
       "    }\n",
       "\n",
       "    .dataframe tbody tr th {\n",
       "        vertical-align: top;\n",
       "    }\n",
       "\n",
       "    .dataframe thead th {\n",
       "        text-align: right;\n",
       "    }\n",
       "</style>\n",
       "<table border=\"1\" class=\"dataframe\">\n",
       "  <thead>\n",
       "    <tr style=\"text-align: right;\">\n",
       "      <th></th>\n",
       "      <th>coach_name</th>\n",
       "    </tr>\n",
       "    <tr>\n",
       "      <th>coach_id</th>\n",
       "      <th></th>\n",
       "    </tr>\n",
       "  </thead>\n",
       "  <tbody>\n",
       "    <tr>\n",
       "      <th>1</th>\n",
       "      <td>José Mourinho</td>\n",
       "    </tr>\n",
       "    <tr>\n",
       "      <th>2</th>\n",
       "      <td>Guus Hiddink</td>\n",
       "    </tr>\n",
       "    <tr>\n",
       "      <th>3</th>\n",
       "      <td>Manuel Pellegrini</td>\n",
       "    </tr>\n",
       "  </tbody>\n",
       "</table>\n",
       "</div>"
      ],
      "text/plain": [
       "                 coach_name\n",
       "coach_id                   \n",
       "1             José Mourinho\n",
       "2              Guus Hiddink\n",
       "3         Manuel Pellegrini"
      ]
     },
     "execution_count": 44,
     "metadata": {},
     "output_type": "execute_result"
    }
   ],
   "source": [
    "table_coach = df_club['Coach'].str.split(';')\n",
    "table_coach = pd.DataFrame(table_coach.explode('Coach')).drop_duplicates().reset_index(drop=True)\n",
    "table_coach = table_coach.assign(coach_id=range(1, len(table_coach) + 1)).set_index(\"coach_id\").rename(columns={\"Coach\": \"coach_name\"})\n",
    "table_coach.head(3)"
   ]
  },
  {
   "cell_type": "code",
   "execution_count": 45,
   "metadata": {},
   "outputs": [],
   "source": [
    "with engine.connect() as conn:\n",
    "    table_coach.to_sql(name='coach', con=conn, schema='football', if_exists='replace', chunksize=50, method='multi',\n",
    "                          index_label= 'coach_id', dtype={'coach_id': Integer(), 'coach_name': VARCHAR(40)})"
   ]
  },
  {
   "attachments": {},
   "cell_type": "markdown",
   "metadata": {},
   "source": [
    "CREATE TABLE Coach_Season_info ⚽️"
   ]
  },
  {
   "cell_type": "code",
   "execution_count": 46,
   "metadata": {},
   "outputs": [
    {
     "data": {
      "text/html": [
       "<div>\n",
       "<style scoped>\n",
       "    .dataframe tbody tr th:only-of-type {\n",
       "        vertical-align: middle;\n",
       "    }\n",
       "\n",
       "    .dataframe tbody tr th {\n",
       "        vertical-align: top;\n",
       "    }\n",
       "\n",
       "    .dataframe thead th {\n",
       "        text-align: right;\n",
       "    }\n",
       "</style>\n",
       "<table border=\"1\" class=\"dataframe\">\n",
       "  <thead>\n",
       "    <tr style=\"text-align: right;\">\n",
       "      <th></th>\n",
       "      <th>season_info_id</th>\n",
       "      <th>coach_name</th>\n",
       "    </tr>\n",
       "    <tr>\n",
       "      <th>id</th>\n",
       "      <th></th>\n",
       "      <th></th>\n",
       "    </tr>\n",
       "  </thead>\n",
       "  <tbody>\n",
       "    <tr>\n",
       "      <th>1</th>\n",
       "      <td>1</td>\n",
       "      <td>José Mourinho</td>\n",
       "    </tr>\n",
       "    <tr>\n",
       "      <th>2</th>\n",
       "      <td>1</td>\n",
       "      <td>Guus Hiddink</td>\n",
       "    </tr>\n",
       "    <tr>\n",
       "      <th>3</th>\n",
       "      <td>2</td>\n",
       "      <td>Manuel Pellegrini</td>\n",
       "    </tr>\n",
       "  </tbody>\n",
       "</table>\n",
       "</div>"
      ],
      "text/plain": [
       "    season_info_id         coach_name\n",
       "id                                   \n",
       "1                1      José Mourinho\n",
       "2                1       Guus Hiddink\n",
       "3                2  Manuel Pellegrini"
      ]
     },
     "execution_count": 46,
     "metadata": {},
     "output_type": "execute_result"
    }
   ],
   "source": [
    "table_coach_season_info = df_club.loc[: , [\"Coach\", \"Season\"]].assign(season_info_id=range(1, len(df_club) + 1)).set_index(\"season_info_id\")\n",
    "table_coach_season_info['Coach'] = table_coach_season_info['Coach'].str.split(';')\n",
    "table_coach_season_info = table_coach_season_info.explode('Coach')\n",
    "\n",
    "table_coach_season_info.rename(columns={\"Coach\": \"coach_name\"}, inplace=True)\n",
    "table_coach_season_info.drop('Season', axis=1, inplace=True)\n",
    "table_coach_season_info = table_coach_season_info.assign(id=range(1, len(table_coach_season_info) + 1)).reset_index().set_index(\"id\")\n",
    "table_coach_season_info.head(3)"
   ]
  },
  {
   "cell_type": "code",
   "execution_count": 47,
   "metadata": {},
   "outputs": [],
   "source": [
    "coach_dict = dict(zip(table_coach['coach_name'], table_coach.index))\n",
    "# coach_dict"
   ]
  },
  {
   "cell_type": "code",
   "execution_count": 48,
   "metadata": {},
   "outputs": [
    {
     "data": {
      "text/html": [
       "<div>\n",
       "<style scoped>\n",
       "    .dataframe tbody tr th:only-of-type {\n",
       "        vertical-align: middle;\n",
       "    }\n",
       "\n",
       "    .dataframe tbody tr th {\n",
       "        vertical-align: top;\n",
       "    }\n",
       "\n",
       "    .dataframe thead th {\n",
       "        text-align: right;\n",
       "    }\n",
       "</style>\n",
       "<table border=\"1\" class=\"dataframe\">\n",
       "  <thead>\n",
       "    <tr style=\"text-align: right;\">\n",
       "      <th></th>\n",
       "      <th>season_info_id</th>\n",
       "      <th>coach_id</th>\n",
       "    </tr>\n",
       "    <tr>\n",
       "      <th>id</th>\n",
       "      <th></th>\n",
       "      <th></th>\n",
       "    </tr>\n",
       "  </thead>\n",
       "  <tbody>\n",
       "    <tr>\n",
       "      <th>1</th>\n",
       "      <td>1</td>\n",
       "      <td>1</td>\n",
       "    </tr>\n",
       "    <tr>\n",
       "      <th>2</th>\n",
       "      <td>1</td>\n",
       "      <td>2</td>\n",
       "    </tr>\n",
       "    <tr>\n",
       "      <th>3</th>\n",
       "      <td>2</td>\n",
       "      <td>3</td>\n",
       "    </tr>\n",
       "  </tbody>\n",
       "</table>\n",
       "</div>"
      ],
      "text/plain": [
       "    season_info_id  coach_id\n",
       "id                          \n",
       "1                1         1\n",
       "2                1         2\n",
       "3                2         3"
      ]
     },
     "execution_count": 48,
     "metadata": {},
     "output_type": "execute_result"
    }
   ],
   "source": [
    "table_coach_season_info['coach_name'] = table_coach_season_info['coach_name'].map(coach_dict)\n",
    "table_coach_season_info.rename(columns={'coach_name': 'coach_id'}, inplace=True)\n",
    "table_coach_season_info.head(3)"
   ]
  },
  {
   "cell_type": "code",
   "execution_count": 49,
   "metadata": {},
   "outputs": [],
   "source": [
    "query_coach_season_info = text(\"\"\"\n",
    "CREATE TABLE coach_season_info (\n",
    "id INT NOT NULL AUTO_INCREMENT,\n",
    "season_info_id INT NOT NULL,\n",
    "coach_id INT NOT NULL,\n",
    "PRIMARY KEY (id),\n",
    "FOREIGN KEY (season_info_id) REFERENCES season_info(season_info_id),\n",
    "FOREIGN KEY (coach_id) REFERENCES coach(coach_id)\n",
    ");\"\"\")"
   ]
  },
  {
   "cell_type": "code",
   "execution_count": 50,
   "metadata": {},
   "outputs": [],
   "source": [
    "with engine.connect() as conn:\n",
    "    conn.execute(text('USE football;'))\n",
    "    conn.execute(query_coach_season_info)\n",
    "    "
   ]
  },
  {
   "cell_type": "code",
   "execution_count": 51,
   "metadata": {},
   "outputs": [],
   "source": [
    "with engine.connect() as conn:\n",
    "    table_coach_season_info.to_sql(name='coach_season_info', con=conn, schema='football', if_exists='append', chunksize=50, method='multi')"
   ]
  },
  {
   "attachments": {},
   "cell_type": "markdown",
   "metadata": {},
   "source": [
    "CREATE TABLE Victories ⚽️"
   ]
  },
  {
   "cell_type": "code",
   "execution_count": 52,
   "metadata": {},
   "outputs": [
    {
     "data": {
      "text/html": [
       "<div>\n",
       "<style scoped>\n",
       "    .dataframe tbody tr th:only-of-type {\n",
       "        vertical-align: middle;\n",
       "    }\n",
       "\n",
       "    .dataframe tbody tr th {\n",
       "        vertical-align: top;\n",
       "    }\n",
       "\n",
       "    .dataframe thead th {\n",
       "        text-align: right;\n",
       "    }\n",
       "</style>\n",
       "<table border=\"1\" class=\"dataframe\">\n",
       "  <thead>\n",
       "    <tr style=\"text-align: right;\">\n",
       "      <th></th>\n",
       "      <th>victory_name</th>\n",
       "    </tr>\n",
       "    <tr>\n",
       "      <th>victory_id</th>\n",
       "      <th></th>\n",
       "    </tr>\n",
       "  </thead>\n",
       "  <tbody>\n",
       "    <tr>\n",
       "      <th>1</th>\n",
       "      <td>Champions League Participant</td>\n",
       "    </tr>\n",
       "    <tr>\n",
       "      <th>2</th>\n",
       "      <td>English League Cup winner</td>\n",
       "    </tr>\n",
       "    <tr>\n",
       "      <th>3</th>\n",
       "      <td>English Supercup Winner</td>\n",
       "    </tr>\n",
       "  </tbody>\n",
       "</table>\n",
       "</div>"
      ],
      "text/plain": [
       "                            victory_name\n",
       "victory_id                              \n",
       "1           Champions League Participant\n",
       "2              English League Cup winner\n",
       "3                English Supercup Winner"
      ]
     },
     "execution_count": 52,
     "metadata": {},
     "output_type": "execute_result"
    }
   ],
   "source": [
    "table_victories = df_club['Club_victories'].str.split(';')\n",
    "table_victories = pd.DataFrame(table_victories.explode('Club_victories')).drop_duplicates().dropna().reset_index(drop=True)\n",
    "\n",
    "table_victories = table_victories.assign(victory_id=range(1, len(table_victories) + 1)).set_index(\"victory_id\")\n",
    "table_victories.rename(columns={'Club_victories': 'victory_name'}, inplace=True)\n",
    "table_victories.head(3)"
   ]
  },
  {
   "cell_type": "code",
   "execution_count": 53,
   "metadata": {},
   "outputs": [],
   "source": [
    "with engine.connect() as conn:\n",
    "    table_victories.to_sql(name='victories', con=conn, schema='football', if_exists='replace', chunksize=50, method='multi',\n",
    "                          index_label= 'victory_id', dtype={'victory_id': Integer(), 'victory_name': VARCHAR(50)})"
   ]
  },
  {
   "attachments": {},
   "cell_type": "markdown",
   "metadata": {},
   "source": [
    "CREATE TABLE Victories_Season_info ⚽️"
   ]
  },
  {
   "cell_type": "code",
   "execution_count": 54,
   "metadata": {},
   "outputs": [
    {
     "data": {
      "text/html": [
       "<div>\n",
       "<style scoped>\n",
       "    .dataframe tbody tr th:only-of-type {\n",
       "        vertical-align: middle;\n",
       "    }\n",
       "\n",
       "    .dataframe tbody tr th {\n",
       "        vertical-align: top;\n",
       "    }\n",
       "\n",
       "    .dataframe thead th {\n",
       "        text-align: right;\n",
       "    }\n",
       "</style>\n",
       "<table border=\"1\" class=\"dataframe\">\n",
       "  <thead>\n",
       "    <tr style=\"text-align: right;\">\n",
       "      <th></th>\n",
       "      <th>Club_victories</th>\n",
       "      <th>Season</th>\n",
       "      <th>season_info_id</th>\n",
       "    </tr>\n",
       "  </thead>\n",
       "  <tbody>\n",
       "    <tr>\n",
       "      <th>0</th>\n",
       "      <td>Champions League Participant</td>\n",
       "      <td>2015</td>\n",
       "      <td>1</td>\n",
       "    </tr>\n",
       "    <tr>\n",
       "      <th>1</th>\n",
       "      <td>English League Cup winner;Champions League Par...</td>\n",
       "      <td>2015</td>\n",
       "      <td>2</td>\n",
       "    </tr>\n",
       "    <tr>\n",
       "      <th>2</th>\n",
       "      <td>Champions League Participant;English Supercup ...</td>\n",
       "      <td>2015</td>\n",
       "      <td>3</td>\n",
       "    </tr>\n",
       "  </tbody>\n",
       "</table>\n",
       "</div>"
      ],
      "text/plain": [
       "                                      Club_victories  Season  season_info_id\n",
       "0                       Champions League Participant    2015               1\n",
       "1  English League Cup winner;Champions League Par...    2015               2\n",
       "2  Champions League Participant;English Supercup ...    2015               3"
      ]
     },
     "execution_count": 54,
     "metadata": {},
     "output_type": "execute_result"
    }
   ],
   "source": [
    "table_victories_season_info = df_club.loc[:, [\"Club_victories\", \"Season\"]].assign(season_info_id=range(1, len(df_club) + 1))\n",
    "table_victories_season_info = table_victories_season_info.dropna(subset='Club_victories').reset_index(drop=True)\n",
    "table_victories_season_info.head(3)"
   ]
  },
  {
   "cell_type": "code",
   "execution_count": 55,
   "metadata": {},
   "outputs": [
    {
     "data": {
      "text/html": [
       "<div>\n",
       "<style scoped>\n",
       "    .dataframe tbody tr th:only-of-type {\n",
       "        vertical-align: middle;\n",
       "    }\n",
       "\n",
       "    .dataframe tbody tr th {\n",
       "        vertical-align: top;\n",
       "    }\n",
       "\n",
       "    .dataframe thead th {\n",
       "        text-align: right;\n",
       "    }\n",
       "</style>\n",
       "<table border=\"1\" class=\"dataframe\">\n",
       "  <thead>\n",
       "    <tr style=\"text-align: right;\">\n",
       "      <th></th>\n",
       "      <th>victory_name</th>\n",
       "      <th>season_info_id</th>\n",
       "    </tr>\n",
       "    <tr>\n",
       "      <th>id</th>\n",
       "      <th></th>\n",
       "      <th></th>\n",
       "    </tr>\n",
       "  </thead>\n",
       "  <tbody>\n",
       "    <tr>\n",
       "      <th>1</th>\n",
       "      <td>Champions League Participant</td>\n",
       "      <td>1</td>\n",
       "    </tr>\n",
       "    <tr>\n",
       "      <th>2</th>\n",
       "      <td>English League Cup winner</td>\n",
       "      <td>2</td>\n",
       "    </tr>\n",
       "    <tr>\n",
       "      <th>3</th>\n",
       "      <td>Champions League Participant</td>\n",
       "      <td>2</td>\n",
       "    </tr>\n",
       "  </tbody>\n",
       "</table>\n",
       "</div>"
      ],
      "text/plain": [
       "                    victory_name  season_info_id\n",
       "id                                              \n",
       "1   Champions League Participant               1\n",
       "2      English League Cup winner               2\n",
       "3   Champions League Participant               2"
      ]
     },
     "execution_count": 55,
     "metadata": {},
     "output_type": "execute_result"
    }
   ],
   "source": [
    "table_victories_season_info['Club_victories'] = table_victories_season_info['Club_victories'].str.split(';')\n",
    "table_victories_season_info = table_victories_season_info.explode('Club_victories')\n",
    "\n",
    "table_victories_season_info.rename(columns={\"Club_victories\": \"victory_name\"}, inplace=True)\n",
    "table_victories_season_info.drop('Season', axis=1, inplace=True)\n",
    "table_victories_season_info = table_victories_season_info.assign(id=range(1, len(table_victories_season_info) + 1)).reset_index(drop=True).set_index(\"id\")\n",
    "table_victories_season_info.head(3)"
   ]
  },
  {
   "cell_type": "code",
   "execution_count": 56,
   "metadata": {},
   "outputs": [],
   "source": [
    "victories_dict = dict(zip(table_victories['victory_name'], table_victories.index))\n",
    "# victories_dict"
   ]
  },
  {
   "cell_type": "code",
   "execution_count": 57,
   "metadata": {},
   "outputs": [
    {
     "data": {
      "text/html": [
       "<div>\n",
       "<style scoped>\n",
       "    .dataframe tbody tr th:only-of-type {\n",
       "        vertical-align: middle;\n",
       "    }\n",
       "\n",
       "    .dataframe tbody tr th {\n",
       "        vertical-align: top;\n",
       "    }\n",
       "\n",
       "    .dataframe thead th {\n",
       "        text-align: right;\n",
       "    }\n",
       "</style>\n",
       "<table border=\"1\" class=\"dataframe\">\n",
       "  <thead>\n",
       "    <tr style=\"text-align: right;\">\n",
       "      <th></th>\n",
       "      <th>victory_id</th>\n",
       "      <th>season_info_id</th>\n",
       "    </tr>\n",
       "    <tr>\n",
       "      <th>id</th>\n",
       "      <th></th>\n",
       "      <th></th>\n",
       "    </tr>\n",
       "  </thead>\n",
       "  <tbody>\n",
       "    <tr>\n",
       "      <th>1</th>\n",
       "      <td>1</td>\n",
       "      <td>1</td>\n",
       "    </tr>\n",
       "    <tr>\n",
       "      <th>2</th>\n",
       "      <td>2</td>\n",
       "      <td>2</td>\n",
       "    </tr>\n",
       "    <tr>\n",
       "      <th>3</th>\n",
       "      <td>1</td>\n",
       "      <td>2</td>\n",
       "    </tr>\n",
       "  </tbody>\n",
       "</table>\n",
       "</div>"
      ],
      "text/plain": [
       "    victory_id  season_info_id\n",
       "id                            \n",
       "1            1               1\n",
       "2            2               2\n",
       "3            1               2"
      ]
     },
     "execution_count": 57,
     "metadata": {},
     "output_type": "execute_result"
    }
   ],
   "source": [
    "table_victories_season_info['victory_name'] = table_victories_season_info['victory_name'].map(victories_dict)\n",
    "table_victories_season_info.rename(columns={'victory_name': 'victory_id'}, inplace=True)\n",
    "table_victories_season_info.head(3)"
   ]
  },
  {
   "cell_type": "code",
   "execution_count": 58,
   "metadata": {},
   "outputs": [],
   "source": [
    "query_victories_season_info = text(\"\"\"\n",
    "CREATE TABLE victories_season_info (\n",
    "id INT NOT NULL AUTO_INCREMENT,\n",
    "season_info_id INT NOT NULL,\n",
    "victory_id INT NOT NULL,\n",
    "PRIMARY KEY (id),\n",
    "FOREIGN KEY (season_info_id) REFERENCES season_info(season_info_id),\n",
    "FOREIGN KEY (victory_id) REFERENCES victories(victory_id)\n",
    ");\"\"\")"
   ]
  },
  {
   "cell_type": "code",
   "execution_count": 59,
   "metadata": {},
   "outputs": [],
   "source": [
    "with engine.connect() as conn:\n",
    "    conn.execute(text('USE football;'))\n",
    "    conn.execute(query_victories_season_info)"
   ]
  },
  {
   "cell_type": "code",
   "execution_count": 60,
   "metadata": {},
   "outputs": [],
   "source": [
    "with engine.connect() as conn:\n",
    "        table_victories_season_info.to_sql(name='victories_season_info', con=conn, schema='football', if_exists='append', chunksize=50, method='multi')\n"
   ]
  },
  {
   "attachments": {},
   "cell_type": "markdown",
   "metadata": {},
   "source": [
    "CREATE TABLE Positions ⚽️"
   ]
  },
  {
   "cell_type": "code",
   "execution_count": 61,
   "metadata": {},
   "outputs": [
    {
     "data": {
      "text/html": [
       "<div>\n",
       "<style scoped>\n",
       "    .dataframe tbody tr th:only-of-type {\n",
       "        vertical-align: middle;\n",
       "    }\n",
       "\n",
       "    .dataframe tbody tr th {\n",
       "        vertical-align: top;\n",
       "    }\n",
       "\n",
       "    .dataframe thead th {\n",
       "        text-align: right;\n",
       "    }\n",
       "</style>\n",
       "<table border=\"1\" class=\"dataframe\">\n",
       "  <thead>\n",
       "    <tr style=\"text-align: right;\">\n",
       "      <th></th>\n",
       "      <th>position_name</th>\n",
       "    </tr>\n",
       "    <tr>\n",
       "      <th>position_id</th>\n",
       "      <th></th>\n",
       "    </tr>\n",
       "  </thead>\n",
       "  <tbody>\n",
       "    <tr>\n",
       "      <th>1</th>\n",
       "      <td>Goalkeeper</td>\n",
       "    </tr>\n",
       "    <tr>\n",
       "      <th>2</th>\n",
       "      <td>Centre-Back</td>\n",
       "    </tr>\n",
       "    <tr>\n",
       "      <th>3</th>\n",
       "      <td>Left-Back</td>\n",
       "    </tr>\n",
       "  </tbody>\n",
       "</table>\n",
       "</div>"
      ],
      "text/plain": [
       "            position_name\n",
       "position_id              \n",
       "1              Goalkeeper\n",
       "2             Centre-Back\n",
       "3               Left-Back"
      ]
     },
     "execution_count": 61,
     "metadata": {},
     "output_type": "execute_result"
    }
   ],
   "source": [
    "table_positions = df_club_players.loc[:, ['Player_possition']].drop_duplicates().rename(columns={'Player_possition': 'position_name'})\n",
    "table_positions = table_positions.assign(position_id=range(1, len(table_positions) + 1)).set_index('position_id')\n",
    "table_positions.head(3)"
   ]
  },
  {
   "cell_type": "code",
   "execution_count": 62,
   "metadata": {},
   "outputs": [],
   "source": [
    "with engine.connect() as conn:\n",
    "    table_positions.to_sql(name='positions', con=conn, schema='football', if_exists='replace', chunksize=50, method='multi',\n",
    "                          index_label= 'position_id', dtype={'position_id': Integer(), 'position_name': VARCHAR(20)})\n",
    "                          "
   ]
  },
  {
   "attachments": {},
   "cell_type": "markdown",
   "metadata": {},
   "source": [
    "CREATE TABLE Players ⚽️"
   ]
  },
  {
   "cell_type": "code",
   "execution_count": 63,
   "metadata": {},
   "outputs": [
    {
     "data": {
      "text/html": [
       "<div>\n",
       "<style scoped>\n",
       "    .dataframe tbody tr th:only-of-type {\n",
       "        vertical-align: middle;\n",
       "    }\n",
       "\n",
       "    .dataframe tbody tr th {\n",
       "        vertical-align: top;\n",
       "    }\n",
       "\n",
       "    .dataframe thead th {\n",
       "        text-align: right;\n",
       "    }\n",
       "</style>\n",
       "<table border=\"1\" class=\"dataframe\">\n",
       "  <thead>\n",
       "    <tr style=\"text-align: right;\">\n",
       "      <th></th>\n",
       "      <th>given_name</th>\n",
       "      <th>full_name</th>\n",
       "      <th>date_of_birth</th>\n",
       "      <th>citizenship</th>\n",
       "      <th>place_of_birth</th>\n",
       "      <th>foot</th>\n",
       "      <th>height</th>\n",
       "    </tr>\n",
       "    <tr>\n",
       "      <th>player_id</th>\n",
       "      <th></th>\n",
       "      <th></th>\n",
       "      <th></th>\n",
       "      <th></th>\n",
       "      <th></th>\n",
       "      <th></th>\n",
       "      <th></th>\n",
       "    </tr>\n",
       "  </thead>\n",
       "  <tbody>\n",
       "    <tr>\n",
       "      <th>465955</th>\n",
       "      <td>Marcin Bulka</td>\n",
       "      <td>Marcin Bułka</td>\n",
       "      <td>Oct 4, 1999</td>\n",
       "      <td>Poland</td>\n",
       "      <td>Płock</td>\n",
       "      <td>right</td>\n",
       "      <td>199.0</td>\n",
       "    </tr>\n",
       "    <tr>\n",
       "      <th>2998</th>\n",
       "      <td>Robert Huth</td>\n",
       "      <td>NaN</td>\n",
       "      <td>Aug 18, 1984</td>\n",
       "      <td>Germany</td>\n",
       "      <td>Berlin</td>\n",
       "      <td>NaN</td>\n",
       "      <td>NaN</td>\n",
       "    </tr>\n",
       "    <tr>\n",
       "      <th>406633</th>\n",
       "      <td>Nya Kirby</td>\n",
       "      <td>Nya Jerome Kirby</td>\n",
       "      <td>Jan 31, 2000</td>\n",
       "      <td>England</td>\n",
       "      <td>London</td>\n",
       "      <td>right</td>\n",
       "      <td>174.0</td>\n",
       "    </tr>\n",
       "  </tbody>\n",
       "</table>\n",
       "</div>"
      ],
      "text/plain": [
       "             given_name         full_name date_of_birth citizenship   \n",
       "player_id                                                             \n",
       "465955     Marcin Bulka      Marcin Bułka   Oct 4, 1999      Poland  \\\n",
       "2998        Robert Huth               NaN  Aug 18, 1984     Germany   \n",
       "406633        Nya Kirby  Nya Jerome Kirby  Jan 31, 2000     England   \n",
       "\n",
       "          place_of_birth   foot  height  \n",
       "player_id                                \n",
       "465955             Płock  right   199.0  \n",
       "2998              Berlin    NaN     NaN  \n",
       "406633            London  right   174.0  "
      ]
     },
     "execution_count": 63,
     "metadata": {},
     "output_type": "execute_result"
    }
   ],
   "source": [
    "table_players = df_players_data[[\"given_name\", \"full_name\", \"date_of_birth\", \"citizenship\", \"place_of_birth\", \"foot\", \"height\"]]\n",
    "table_players.head(3)"
   ]
  },
  {
   "cell_type": "code",
   "execution_count": 64,
   "metadata": {},
   "outputs": [],
   "source": [
    "with engine.connect() as conn:\n",
    "    table_players.to_sql(name=\"players\", con=conn, schema=\"football\", if_exists=\"replace\", chunksize=50, method=\"multi\",\n",
    "                          index_label=\"player_id\", dtype= {\"player_id\" : Integer(), \"given_name\" : VARCHAR(40), \"full_name\" : VARCHAR(70),\n",
    "                                                           \"date_of_birth\" : VARCHAR(15), \"citizenship\" : VARCHAR(30), \"place_of_birth\" : VARCHAR(40),\n",
    "                                                           \"foot\" : VARCHAR(6), \"height\" : Integer()})\n"
   ]
  },
  {
   "attachments": {},
   "cell_type": "markdown",
   "metadata": {},
   "source": [
    "CREATE TABLE Players_Season_info ⚽️"
   ]
  },
  {
   "cell_type": "code",
   "execution_count": 65,
   "metadata": {},
   "outputs": [
    {
     "data": {
      "text/html": [
       "<div>\n",
       "<style scoped>\n",
       "    .dataframe tbody tr th:only-of-type {\n",
       "        vertical-align: middle;\n",
       "    }\n",
       "\n",
       "    .dataframe tbody tr th {\n",
       "        vertical-align: top;\n",
       "    }\n",
       "\n",
       "    .dataframe thead th {\n",
       "        text-align: right;\n",
       "    }\n",
       "</style>\n",
       "<table border=\"1\" class=\"dataframe\">\n",
       "  <thead>\n",
       "    <tr style=\"text-align: right;\">\n",
       "      <th></th>\n",
       "      <th>PlayerID</th>\n",
       "      <th>Player_MarketValue</th>\n",
       "      <th>Season</th>\n",
       "      <th>ClubID</th>\n",
       "      <th>Player_possition</th>\n",
       "    </tr>\n",
       "  </thead>\n",
       "  <tbody>\n",
       "    <tr>\n",
       "      <th>0</th>\n",
       "      <td>108390</td>\n",
       "      <td>€35.00m</td>\n",
       "      <td>2015</td>\n",
       "      <td>631</td>\n",
       "      <td>Goalkeeper</td>\n",
       "    </tr>\n",
       "    <tr>\n",
       "      <th>1</th>\n",
       "      <td>33873</td>\n",
       "      <td>€12.00m</td>\n",
       "      <td>2015</td>\n",
       "      <td>631</td>\n",
       "      <td>Goalkeeper</td>\n",
       "    </tr>\n",
       "    <tr>\n",
       "      <th>2</th>\n",
       "      <td>128898</td>\n",
       "      <td>€250k</td>\n",
       "      <td>2015</td>\n",
       "      <td>631</td>\n",
       "      <td>Goalkeeper</td>\n",
       "    </tr>\n",
       "  </tbody>\n",
       "</table>\n",
       "</div>"
      ],
      "text/plain": [
       "   PlayerID Player_MarketValue  Season  ClubID Player_possition\n",
       "0    108390           €35.00m     2015     631       Goalkeeper\n",
       "1     33873           €12.00m     2015     631       Goalkeeper\n",
       "2    128898             €250k     2015     631       Goalkeeper"
      ]
     },
     "execution_count": 65,
     "metadata": {},
     "output_type": "execute_result"
    }
   ],
   "source": [
    "table_players_season_info = df_club_players.loc[:, ['PlayerID', 'Player_MarketValue', \"Season\", \"ClubID\", \"Player_possition\"]].drop_duplicates()\n",
    "table_players_season_info.head(3)"
   ]
  },
  {
   "cell_type": "code",
   "execution_count": 66,
   "metadata": {},
   "outputs": [
    {
     "data": {
      "text/html": [
       "<div>\n",
       "<style scoped>\n",
       "    .dataframe tbody tr th:only-of-type {\n",
       "        vertical-align: middle;\n",
       "    }\n",
       "\n",
       "    .dataframe tbody tr th {\n",
       "        vertical-align: top;\n",
       "    }\n",
       "\n",
       "    .dataframe thead th {\n",
       "        text-align: right;\n",
       "    }\n",
       "</style>\n",
       "<table border=\"1\" class=\"dataframe\">\n",
       "  <thead>\n",
       "    <tr style=\"text-align: right;\">\n",
       "      <th></th>\n",
       "      <th>PlayerID</th>\n",
       "      <th>Player_MarketValue</th>\n",
       "      <th>Season</th>\n",
       "      <th>ClubID</th>\n",
       "      <th>Player_possition</th>\n",
       "      <th>season_info_id</th>\n",
       "    </tr>\n",
       "  </thead>\n",
       "  <tbody>\n",
       "    <tr>\n",
       "      <th>0</th>\n",
       "      <td>108390</td>\n",
       "      <td>€35.00m</td>\n",
       "      <td>2015</td>\n",
       "      <td>631</td>\n",
       "      <td>Goalkeeper</td>\n",
       "      <td>1.0</td>\n",
       "    </tr>\n",
       "    <tr>\n",
       "      <th>1</th>\n",
       "      <td>33873</td>\n",
       "      <td>€12.00m</td>\n",
       "      <td>2015</td>\n",
       "      <td>631</td>\n",
       "      <td>Goalkeeper</td>\n",
       "      <td>1.0</td>\n",
       "    </tr>\n",
       "    <tr>\n",
       "      <th>2</th>\n",
       "      <td>128898</td>\n",
       "      <td>€250k</td>\n",
       "      <td>2015</td>\n",
       "      <td>631</td>\n",
       "      <td>Goalkeeper</td>\n",
       "      <td>1.0</td>\n",
       "    </tr>\n",
       "  </tbody>\n",
       "</table>\n",
       "</div>"
      ],
      "text/plain": [
       "   PlayerID Player_MarketValue  Season  ClubID Player_possition   \n",
       "0    108390           €35.00m     2015     631       Goalkeeper  \\\n",
       "1     33873           €12.00m     2015     631       Goalkeeper   \n",
       "2    128898             €250k     2015     631       Goalkeeper   \n",
       "\n",
       "   season_info_id  \n",
       "0             1.0  \n",
       "1             1.0  \n",
       "2             1.0  "
      ]
     },
     "execution_count": 66,
     "metadata": {},
     "output_type": "execute_result"
    }
   ],
   "source": [
    "grouped_players_season_info = table_players_season_info.groupby(by=[\"Season\", \"ClubID\"], sort=False)\n",
    "season_info_id = 0\n",
    "\n",
    "for (Season,ClubID), group in grouped_players_season_info:\n",
    "    season_info_id += 1\n",
    "    for PlayerID in group[\"PlayerID\"]:\n",
    "        table_players_season_info.loc[(table_players_season_info[\"PlayerID\"] ==  PlayerID) &\n",
    "                                     (table_players_season_info[\"Season\"] ==  Season) & \n",
    "                                     (table_players_season_info[\"ClubID\"] ==  ClubID), \"season_info_id\"] = season_info_id\n",
    "\n",
    "table_players_season_info.head(3)"
   ]
  },
  {
   "cell_type": "code",
   "execution_count": 67,
   "metadata": {},
   "outputs": [],
   "source": [
    "position_dict = dict(zip(table_positions['position_name'], table_positions.index))\n",
    "# position_dict"
   ]
  },
  {
   "cell_type": "code",
   "execution_count": 68,
   "metadata": {},
   "outputs": [
    {
     "data": {
      "text/html": [
       "<div>\n",
       "<style scoped>\n",
       "    .dataframe tbody tr th:only-of-type {\n",
       "        vertical-align: middle;\n",
       "    }\n",
       "\n",
       "    .dataframe tbody tr th {\n",
       "        vertical-align: top;\n",
       "    }\n",
       "\n",
       "    .dataframe thead th {\n",
       "        text-align: right;\n",
       "    }\n",
       "</style>\n",
       "<table border=\"1\" class=\"dataframe\">\n",
       "  <thead>\n",
       "    <tr style=\"text-align: right;\">\n",
       "      <th></th>\n",
       "      <th>player_id</th>\n",
       "      <th>player_market_value</th>\n",
       "      <th>position_id</th>\n",
       "      <th>season_info_id</th>\n",
       "    </tr>\n",
       "    <tr>\n",
       "      <th>id</th>\n",
       "      <th></th>\n",
       "      <th></th>\n",
       "      <th></th>\n",
       "      <th></th>\n",
       "    </tr>\n",
       "  </thead>\n",
       "  <tbody>\n",
       "    <tr>\n",
       "      <th>1</th>\n",
       "      <td>108390</td>\n",
       "      <td>€35.00m</td>\n",
       "      <td>1</td>\n",
       "      <td>1.0</td>\n",
       "    </tr>\n",
       "    <tr>\n",
       "      <th>2</th>\n",
       "      <td>33873</td>\n",
       "      <td>€12.00m</td>\n",
       "      <td>1</td>\n",
       "      <td>1.0</td>\n",
       "    </tr>\n",
       "    <tr>\n",
       "      <th>3</th>\n",
       "      <td>128898</td>\n",
       "      <td>€250k</td>\n",
       "      <td>1</td>\n",
       "      <td>1.0</td>\n",
       "    </tr>\n",
       "  </tbody>\n",
       "</table>\n",
       "</div>"
      ],
      "text/plain": [
       "    player_id player_market_value  position_id  season_info_id\n",
       "id                                                            \n",
       "1      108390            €35.00m             1             1.0\n",
       "2       33873            €12.00m             1             1.0\n",
       "3      128898              €250k             1             1.0"
      ]
     },
     "execution_count": 68,
     "metadata": {},
     "output_type": "execute_result"
    }
   ],
   "source": [
    "table_players_season_info['Player_possition'] = table_players_season_info['Player_possition'].map(position_dict)\n",
    "\n",
    "table_players_season_info = table_players_season_info.drop([\"Season\", \"ClubID\"], axis=1).rename(columns={\"PlayerID\": \"player_id\",\"Player_MarketValue\": \"player_market_value\", 'Player_possition': 'position_id'})\n",
    "table_players_season_info = table_players_season_info.assign(id=range(1, len(table_players_season_info) + 1)).set_index('id')\n",
    "\n",
    "table_players_season_info.head(3)"
   ]
  },
  {
   "cell_type": "code",
   "execution_count": 69,
   "metadata": {},
   "outputs": [],
   "source": [
    "query_players_season_info = text(\"\"\"\n",
    "CREATE TABLE players_season_info (\n",
    "id INT NOT NULL AUTO_INCREMENT,\n",
    "season_info_id INT NOT NULL,\n",
    "player_id INT NOT NULL,\n",
    "position_id INT NOT NULL,\n",
    "player_market_value VARCHAR(12),\n",
    "PRIMARY KEY (id),\n",
    "FOREIGN KEY (season_info_id) REFERENCES season_info(season_info_id),\n",
    "FOREIGN KEY (player_id) REFERENCES players(player_id),\n",
    "FOREIGN KEY (position_id) REFERENCES positions(position_id)\n",
    ");\"\"\")"
   ]
  },
  {
   "cell_type": "code",
   "execution_count": 70,
   "metadata": {},
   "outputs": [],
   "source": [
    "with engine.connect() as conn:\n",
    "    conn.execute(text('USE football;'))\n",
    "    conn.execute(query_players_season_info)"
   ]
  },
  {
   "cell_type": "code",
   "execution_count": 71,
   "metadata": {},
   "outputs": [],
   "source": [
    "with engine.connect() as conn:\n",
    "    table_players_season_info.to_sql(name='players_season_info', con=conn, schema='football', if_exists='append', chunksize=50, method='multi')"
   ]
  },
  {
   "attachments": {},
   "cell_type": "markdown",
   "metadata": {},
   "source": [
    "CREATE TABLE Outfitters ⚽️"
   ]
  },
  {
   "cell_type": "code",
   "execution_count": 72,
   "metadata": {},
   "outputs": [
    {
     "data": {
      "text/html": [
       "<div>\n",
       "<style scoped>\n",
       "    .dataframe tbody tr th:only-of-type {\n",
       "        vertical-align: middle;\n",
       "    }\n",
       "\n",
       "    .dataframe tbody tr th {\n",
       "        vertical-align: top;\n",
       "    }\n",
       "\n",
       "    .dataframe thead th {\n",
       "        text-align: right;\n",
       "    }\n",
       "</style>\n",
       "<table border=\"1\" class=\"dataframe\">\n",
       "  <thead>\n",
       "    <tr style=\"text-align: right;\">\n",
       "      <th></th>\n",
       "      <th>player_id</th>\n",
       "      <th>outfitter</th>\n",
       "    </tr>\n",
       "    <tr>\n",
       "      <th>id</th>\n",
       "      <th></th>\n",
       "      <th></th>\n",
       "    </tr>\n",
       "  </thead>\n",
       "  <tbody>\n",
       "    <tr>\n",
       "      <th>1</th>\n",
       "      <td>84481</td>\n",
       "      <td>Nike</td>\n",
       "    </tr>\n",
       "    <tr>\n",
       "      <th>2</th>\n",
       "      <td>120630</td>\n",
       "      <td>Nike</td>\n",
       "    </tr>\n",
       "    <tr>\n",
       "      <th>3</th>\n",
       "      <td>587002</td>\n",
       "      <td>adidas</td>\n",
       "    </tr>\n",
       "  </tbody>\n",
       "</table>\n",
       "</div>"
      ],
      "text/plain": [
       "    player_id outfitter\n",
       "id                     \n",
       "1       84481      Nike\n",
       "2      120630      Nike\n",
       "3      587002    adidas"
      ]
     },
     "execution_count": 72,
     "metadata": {},
     "output_type": "execute_result"
    }
   ],
   "source": [
    "table_outfitter = df_players_data[[\"outfitter\"]]\n",
    "table_outfitter = table_outfitter.dropna(subset='outfitter').reset_index()\n",
    "table_outfitter = table_outfitter.assign(id=range(1, len(table_outfitter) + 1)).set_index('id')\n",
    "\n",
    "table_outfitter.head(3)"
   ]
  },
  {
   "cell_type": "code",
   "execution_count": 73,
   "metadata": {},
   "outputs": [],
   "source": [
    "query_outfitter = text(\"\"\"\n",
    "CREATE TABLE outfitter(\n",
    "id INT NOT NULL AUTO_INCREMENT,\n",
    "player_id INT NOT NULL,\n",
    "outfitter VARCHAR(15),\n",
    "PRIMARY KEY (id),\n",
    "FOREIGN KEY(player_id) REFERENCES players(player_id)\n",
    ");\"\"\")"
   ]
  },
  {
   "cell_type": "code",
   "execution_count": 74,
   "metadata": {},
   "outputs": [],
   "source": [
    "with engine.connect() as conn:\n",
    "    conn.execute(text('use football;'))\n",
    "    conn.execute(query_outfitter)"
   ]
  },
  {
   "cell_type": "code",
   "execution_count": 75,
   "metadata": {},
   "outputs": [],
   "source": [
    "with engine.connect() as conn:\n",
    "    table_outfitter.to_sql(name='outfitter', con=conn, schema='football', if_exists='append', chunksize=50, method='multi')"
   ]
  },
  {
   "attachments": {},
   "cell_type": "markdown",
   "metadata": {},
   "source": [
    "CREATE TABLE Player_info ⚽️"
   ]
  },
  {
   "cell_type": "code",
   "execution_count": 76,
   "metadata": {},
   "outputs": [
    {
     "data": {
      "text/html": [
       "<div>\n",
       "<style scoped>\n",
       "    .dataframe tbody tr th:only-of-type {\n",
       "        vertical-align: middle;\n",
       "    }\n",
       "\n",
       "    .dataframe tbody tr th {\n",
       "        vertical-align: top;\n",
       "    }\n",
       "\n",
       "    .dataframe thead th {\n",
       "        text-align: right;\n",
       "    }\n",
       "</style>\n",
       "<table border=\"1\" class=\"dataframe\">\n",
       "  <thead>\n",
       "    <tr style=\"text-align: right;\">\n",
       "      <th></th>\n",
       "      <th>player_id</th>\n",
       "      <th>shirt_number</th>\n",
       "      <th>caps</th>\n",
       "      <th>goals</th>\n",
       "      <th>agent</th>\n",
       "      <th>current_club</th>\n",
       "      <th>date_of_last_contract</th>\n",
       "      <th>contract_Joined</th>\n",
       "      <th>contract_expires</th>\n",
       "    </tr>\n",
       "    <tr>\n",
       "      <th>id</th>\n",
       "      <th></th>\n",
       "      <th></th>\n",
       "      <th></th>\n",
       "      <th></th>\n",
       "      <th></th>\n",
       "      <th></th>\n",
       "      <th></th>\n",
       "      <th></th>\n",
       "      <th></th>\n",
       "    </tr>\n",
       "  </thead>\n",
       "  <tbody>\n",
       "    <tr>\n",
       "      <th>1</th>\n",
       "      <td>465955</td>\n",
       "      <td>#90</td>\n",
       "      <td>1.0</td>\n",
       "      <td>0.0</td>\n",
       "      <td>AIS Football</td>\n",
       "      <td>OGC Nice</td>\n",
       "      <td>NaN</td>\n",
       "      <td>Jul 1, 2022</td>\n",
       "      <td>Jun 30, 2026</td>\n",
       "    </tr>\n",
       "    <tr>\n",
       "      <th>2</th>\n",
       "      <td>2998</td>\n",
       "      <td>NaN</td>\n",
       "      <td>19.0</td>\n",
       "      <td>2.0</td>\n",
       "      <td>Christian Nilles</td>\n",
       "      <td>Retired</td>\n",
       "      <td>NaN</td>\n",
       "      <td>Jul 1, 2018</td>\n",
       "      <td>-</td>\n",
       "    </tr>\n",
       "  </tbody>\n",
       "</table>\n",
       "</div>"
      ],
      "text/plain": [
       "    player_id shirt_number  caps  goals             agent current_club   \n",
       "id                                                                       \n",
       "1      465955          #90   1.0    0.0      AIS Football     OGC Nice  \\\n",
       "2        2998          NaN  19.0    2.0  Christian Nilles      Retired   \n",
       "\n",
       "   date_of_last_contract contract_Joined contract_expires  \n",
       "id                                                         \n",
       "1                    NaN     Jul 1, 2022     Jun 30, 2026  \n",
       "2                    NaN     Jul 1, 2018                -  "
      ]
     },
     "execution_count": 76,
     "metadata": {},
     "output_type": "execute_result"
    }
   ],
   "source": [
    "table_player_info = df_players_data.reset_index()[[\"player_id\", \"shirt_number\", \"caps\", \"goals\", \"agent\", \"current_club\", \"date_of_last_contract\", \"contract_Joined\",'contract_expires']]\n",
    "table_player_info['id'] = range(1, len(table_player_info) + 1)\n",
    "table_player_info.set_index(\"id\", inplace = True)\n",
    "table_player_info.head(2)"
   ]
  },
  {
   "cell_type": "code",
   "execution_count": 77,
   "metadata": {},
   "outputs": [],
   "source": [
    "query_player_info = text(\"\"\"\n",
    "CREATE TABLE player_info (\n",
    "id INT NOT NULL AUTO_INCREMENT,\n",
    "player_id INT NOT NULL,\n",
    "shirt_number VARCHAR(4),\n",
    "caps INT,\n",
    "goals INT,\n",
    "agent VARCHAR(40),\n",
    "current_club VARCHAR(50),\n",
    "date_of_last_contract VARCHAR(15),\n",
    "contract_joined VARCHAR(15),\n",
    "contract_expires VARCHAR(15),\n",
    "PRIMARY KEY (id),\n",
    "FOREIGN KEY(player_id) REFERENCES players(player_id)\n",
    ");\"\"\")"
   ]
  },
  {
   "cell_type": "code",
   "execution_count": 78,
   "metadata": {},
   "outputs": [],
   "source": [
    "with engine.connect() as conn:\n",
    "    conn.execute(text('use football;'))\n",
    "    conn.execute(query_player_info)"
   ]
  },
  {
   "cell_type": "code",
   "execution_count": 79,
   "metadata": {},
   "outputs": [],
   "source": [
    "with engine.connect() as conn:\n",
    "    table_player_info.to_sql(name='player_info', con=conn, schema='football', if_exists='append', chunksize=50, method='multi')"
   ]
  },
  {
   "attachments": {},
   "cell_type": "markdown",
   "metadata": {},
   "source": [
    "CREATE TABLE Stats ⚽️"
   ]
  },
  {
   "cell_type": "code",
   "execution_count": 80,
   "metadata": {},
   "outputs": [
    {
     "data": {
      "text/html": [
       "<div>\n",
       "<style scoped>\n",
       "    .dataframe tbody tr th:only-of-type {\n",
       "        vertical-align: middle;\n",
       "    }\n",
       "\n",
       "    .dataframe tbody tr th {\n",
       "        vertical-align: top;\n",
       "    }\n",
       "\n",
       "    .dataframe thead th {\n",
       "        text-align: right;\n",
       "    }\n",
       "</style>\n",
       "<table border=\"1\" class=\"dataframe\">\n",
       "  <thead>\n",
       "    <tr style=\"text-align: right;\">\n",
       "      <th></th>\n",
       "      <th>name</th>\n",
       "      <th>appearances</th>\n",
       "      <th>goals</th>\n",
       "      <th>asists</th>\n",
       "      <th>yellow_cards</th>\n",
       "      <th>second_yellow_cards</th>\n",
       "      <th>red_cards</th>\n",
       "      <th>minutes_played</th>\n",
       "      <th>goals_conceded</th>\n",
       "      <th>clean_sheets</th>\n",
       "    </tr>\n",
       "    <tr>\n",
       "      <th>id</th>\n",
       "      <th></th>\n",
       "      <th></th>\n",
       "      <th></th>\n",
       "      <th></th>\n",
       "      <th></th>\n",
       "      <th></th>\n",
       "      <th></th>\n",
       "      <th></th>\n",
       "      <th></th>\n",
       "      <th></th>\n",
       "    </tr>\n",
       "  </thead>\n",
       "  <tbody>\n",
       "    <tr>\n",
       "      <th>465955</th>\n",
       "      <td>marcin-bulka</td>\n",
       "      <td>6</td>\n",
       "      <td>-</td>\n",
       "      <td>NaN</td>\n",
       "      <td>-</td>\n",
       "      <td>-</td>\n",
       "      <td>-</td>\n",
       "      <td>540'</td>\n",
       "      <td>3</td>\n",
       "      <td>3</td>\n",
       "    </tr>\n",
       "  </tbody>\n",
       "</table>\n",
       "</div>"
      ],
      "text/plain": [
       "                name appearances goals asists yellow_cards   \n",
       "id                                                           \n",
       "465955  marcin-bulka           6     -    NaN            -  \\\n",
       "\n",
       "       second_yellow_cards red_cards minutes_played goals_conceded   \n",
       "id                                                                   \n",
       "465955                   -         -           540'              3  \\\n",
       "\n",
       "       clean_sheets  \n",
       "id                   \n",
       "465955            3  "
      ]
     },
     "execution_count": 80,
     "metadata": {},
     "output_type": "execute_result"
    }
   ],
   "source": [
    " df_players_stats.head(1)"
   ]
  },
  {
   "cell_type": "code",
   "execution_count": 81,
   "metadata": {},
   "outputs": [
    {
     "data": {
      "text/html": [
       "<div>\n",
       "<style scoped>\n",
       "    .dataframe tbody tr th:only-of-type {\n",
       "        vertical-align: middle;\n",
       "    }\n",
       "\n",
       "    .dataframe tbody tr th {\n",
       "        vertical-align: top;\n",
       "    }\n",
       "\n",
       "    .dataframe thead th {\n",
       "        text-align: right;\n",
       "    }\n",
       "</style>\n",
       "<table border=\"1\" class=\"dataframe\">\n",
       "  <thead>\n",
       "    <tr style=\"text-align: right;\">\n",
       "      <th></th>\n",
       "      <th>player_id</th>\n",
       "      <th>appearances</th>\n",
       "      <th>goals</th>\n",
       "      <th>asists</th>\n",
       "      <th>yellow_cards</th>\n",
       "      <th>second_yellow_cards</th>\n",
       "      <th>red_cards</th>\n",
       "      <th>minutes_played</th>\n",
       "      <th>goals_conceded</th>\n",
       "      <th>clean_sheets</th>\n",
       "    </tr>\n",
       "    <tr>\n",
       "      <th>id</th>\n",
       "      <th></th>\n",
       "      <th></th>\n",
       "      <th></th>\n",
       "      <th></th>\n",
       "      <th></th>\n",
       "      <th></th>\n",
       "      <th></th>\n",
       "      <th></th>\n",
       "      <th></th>\n",
       "      <th></th>\n",
       "    </tr>\n",
       "  </thead>\n",
       "  <tbody>\n",
       "    <tr>\n",
       "      <th>1</th>\n",
       "      <td>465955</td>\n",
       "      <td>6</td>\n",
       "      <td>-</td>\n",
       "      <td>NaN</td>\n",
       "      <td>-</td>\n",
       "      <td>-</td>\n",
       "      <td>-</td>\n",
       "      <td>540'</td>\n",
       "      <td>3</td>\n",
       "      <td>3</td>\n",
       "    </tr>\n",
       "    <tr>\n",
       "      <th>2</th>\n",
       "      <td>2998</td>\n",
       "      <td>NaN</td>\n",
       "      <td>NaN</td>\n",
       "      <td>NaN</td>\n",
       "      <td>NaN</td>\n",
       "      <td>NaN</td>\n",
       "      <td>NaN</td>\n",
       "      <td>NaN</td>\n",
       "      <td>NaN</td>\n",
       "      <td>NaN</td>\n",
       "    </tr>\n",
       "  </tbody>\n",
       "</table>\n",
       "</div>"
      ],
      "text/plain": [
       "    player_id appearances goals asists yellow_cards second_yellow_cards   \n",
       "id                                                                        \n",
       "1      465955           6     -    NaN            -                   -  \\\n",
       "2        2998         NaN   NaN    NaN          NaN                 NaN   \n",
       "\n",
       "   red_cards minutes_played goals_conceded clean_sheets  \n",
       "id                                                       \n",
       "1          -           540'              3            3  \n",
       "2        NaN            NaN            NaN          NaN  "
      ]
     },
     "execution_count": 81,
     "metadata": {},
     "output_type": "execute_result"
    }
   ],
   "source": [
    "table_stats = df_players_stats.rename_axis('player_id')\n",
    "table_stats = table_stats.assign(id=range(1, len(table_stats) + 1)).reset_index().set_index('id')\n",
    "table_stats = table_stats[['player_id','appearances','goals','asists','yellow_cards','second_yellow_cards','red_cards','minutes_played','goals_conceded','clean_sheets']]\n",
    "table_stats.head(2)"
   ]
  },
  {
   "cell_type": "code",
   "execution_count": 82,
   "metadata": {},
   "outputs": [],
   "source": [
    "query_stats = text(\"\"\"\n",
    "CREATE TABLE stats (\n",
    "id INT NOT NULL AUTO_INCREMENT,\n",
    "player_id INT NOT NULL,\n",
    "appearances VARCHAR(5),\n",
    "goals VARCHAR(3),\n",
    "asists VARCHAR(3),\n",
    "yellow_cards VARCHAR(2),\n",
    "second_yellow_cards VARCHAR(2),\n",
    "red_cards VARCHAR(2),\n",
    "minutes_played VARCHAR(7),\n",
    "goals_conceded VARCHAR(5),\n",
    "clean_sheets VARCHAR(5),\n",
    "PRIMARY KEY (id),\n",
    "FOREIGN KEY(player_id) REFERENCES players(player_id)\n",
    ");\"\"\")"
   ]
  },
  {
   "cell_type": "code",
   "execution_count": 83,
   "metadata": {},
   "outputs": [],
   "source": [
    "with engine.connect() as conn:\n",
    "    conn.execute(text('use football;'))\n",
    "    conn.execute(query_stats)"
   ]
  },
  {
   "cell_type": "code",
   "execution_count": 84,
   "metadata": {},
   "outputs": [],
   "source": [
    "with engine.connect() as conn:\n",
    "    table_stats.to_sql(name='stats', con=conn, schema='football', if_exists='append', chunksize=50, method='multi')"
   ]
  },
  {
   "attachments": {},
   "cell_type": "markdown",
   "metadata": {},
   "source": [
    "CREATE TABLE Transfer ⚽️"
   ]
  },
  {
   "cell_type": "code",
   "execution_count": 85,
   "metadata": {},
   "outputs": [
    {
     "data": {
      "text/html": [
       "<div>\n",
       "<style scoped>\n",
       "    .dataframe tbody tr th:only-of-type {\n",
       "        vertical-align: middle;\n",
       "    }\n",
       "\n",
       "    .dataframe tbody tr th {\n",
       "        vertical-align: top;\n",
       "    }\n",
       "\n",
       "    .dataframe thead th {\n",
       "        text-align: right;\n",
       "    }\n",
       "</style>\n",
       "<table border=\"1\" class=\"dataframe\">\n",
       "  <thead>\n",
       "    <tr style=\"text-align: right;\">\n",
       "      <th></th>\n",
       "      <th>player_id</th>\n",
       "      <th>transfer_date</th>\n",
       "      <th>club_left</th>\n",
       "      <th>club_joined</th>\n",
       "      <th>mv</th>\n",
       "      <th>fee</th>\n",
       "    </tr>\n",
       "    <tr>\n",
       "      <th>id</th>\n",
       "      <th></th>\n",
       "      <th></th>\n",
       "      <th></th>\n",
       "      <th></th>\n",
       "      <th></th>\n",
       "      <th></th>\n",
       "    </tr>\n",
       "  </thead>\n",
       "  <tbody>\n",
       "    <tr>\n",
       "      <th>1</th>\n",
       "      <td>465955</td>\n",
       "      <td>21/22</td>\n",
       "      <td>Paris SG</td>\n",
       "      <td>OGC Nice</td>\n",
       "      <td>€800k</td>\n",
       "      <td>loan transfer</td>\n",
       "    </tr>\n",
       "    <tr>\n",
       "      <th>2</th>\n",
       "      <td>465955</td>\n",
       "      <td>20/21</td>\n",
       "      <td>LB Châteauroux</td>\n",
       "      <td>Paris SG</td>\n",
       "      <td>€800k</td>\n",
       "      <td>End of loan</td>\n",
       "    </tr>\n",
       "    <tr>\n",
       "      <th>3</th>\n",
       "      <td>465955</td>\n",
       "      <td>20/21</td>\n",
       "      <td>Paris SG</td>\n",
       "      <td>LB Châteauroux</td>\n",
       "      <td>€900k</td>\n",
       "      <td>loan transfer</td>\n",
       "    </tr>\n",
       "  </tbody>\n",
       "</table>\n",
       "</div>"
      ],
      "text/plain": [
       "    player_id transfer_date       club_left     club_joined     mv   \n",
       "id                                                                   \n",
       "1      465955         21/22        Paris SG        OGC Nice  €800k  \\\n",
       "2      465955         20/21  LB Châteauroux        Paris SG  €800k   \n",
       "3      465955         20/21        Paris SG  LB Châteauroux  €900k   \n",
       "\n",
       "              fee  \n",
       "id                 \n",
       "1   loan transfer  \n",
       "2     End of loan  \n",
       "3   loan transfer  "
      ]
     },
     "execution_count": 85,
     "metadata": {},
     "output_type": "execute_result"
    }
   ],
   "source": [
    "table_transfer = df_players_transfers.drop('date', axis=1).reset_index()\n",
    "table_transfer = table_transfer.assign(id=range(1, len(table_transfer) + 1)).set_index('id')\n",
    "table_transfer.rename(columns = {\"season\" : \"transfer_date\", 'left': 'club_left', 'joined': 'club_joined'}, inplace = True)\n",
    "table_transfer.head(3)"
   ]
  },
  {
   "cell_type": "code",
   "execution_count": 86,
   "metadata": {},
   "outputs": [],
   "source": [
    "query_transfer = text(\"\"\"\n",
    "CREATE TABLE transfer (\n",
    "id INT NOT NULL,\n",
    "player_id INT NOT NULL,\n",
    "transfer_date VARCHAR(15),\n",
    "club_left VARCHAR(30),\n",
    "club_joined VARCHAR(30),\n",
    "mv VARCHAR(15),\n",
    "fee VARCHAR(25),\n",
    "PRIMARY KEY (id),\n",
    "FOREIGN KEY (player_id) REFERENCES players(player_id)\n",
    ");\"\"\")"
   ]
  },
  {
   "cell_type": "code",
   "execution_count": 87,
   "metadata": {},
   "outputs": [],
   "source": [
    "with engine.connect() as conn:\n",
    "    conn.execute(text('USE football;'))\n",
    "    conn.execute(query_transfer)"
   ]
  },
  {
   "cell_type": "code",
   "execution_count": 88,
   "metadata": {},
   "outputs": [],
   "source": [
    "with engine.connect() as conn:\n",
    "    table_transfer.to_sql(name=\"transfer\", con=conn, schema=\"football\", if_exists=\"append\", chunksize=50, method=\"multi\")"
   ]
  }
 ],
 "metadata": {
  "kernelspec": {
   "display_name": "Python 3",
   "language": "python",
   "name": "python3"
  },
  "language_info": {
   "codemirror_mode": {
    "name": "ipython",
    "version": 3
   },
   "file_extension": ".py",
   "mimetype": "text/x-python",
   "name": "python",
   "nbconvert_exporter": "python",
   "pygments_lexer": "ipython3",
   "version": "3.11.3"
  },
  "orig_nbformat": 4
 },
 "nbformat": 4,
 "nbformat_minor": 2
}
