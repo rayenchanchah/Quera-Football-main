{
 "cells": [
  {
   "attachments": {},
   "cell_type": "markdown",
   "metadata": {},
   "source": [
    "IMPORTING LIBRARIES 📚"
   ]
  },
  {
   "cell_type": "code",
   "execution_count": 1,
   "metadata": {
    "dotnet_interactive": {
     "language": "csharp"
    },
    "polyglot_notebook": {
     "kernelName": "csharp"
    },
    "vscode": {
     "languageId": "polyglot-notebook"
    }
   },
   "outputs": [
    {
     "ename": "Error",
     "evalue": "(1,14): error CS1002: ; expected\r\n(1,14): error CS1525: Invalid expression term 'as'\r\n(1,19): error CS1002: ; expected\r\n(2,15): error CS1002: ; expected\r\n(2,15): error CS1525: Invalid expression term 'as'\r\n(2,20): error CS1002: ; expected\r\n(3,16): error CS1002: ; expected\r\n(3,16): error CS1525: Invalid expression term 'as'\r\n(3,22): error CS1002: ; expected\r\n(4,20): error CS1003: Syntax error, '(' expected\r\n(4,20): error CS1041: Identifier expected; 'as' is a keyword\r\n(5,6): error CS1003: Syntax error, ',' expected\r\n(5,22): error CS1003: Syntax error, ',' expected\r\n(6,6): error CS1003: Syntax error, ',' expected\r\n(6,23): error CS1003: Syntax error, ',' expected\r\n(7,8): error CS1003: Syntax error, ',' expected\r\n(7,26): error CS1001: Identifier expected\r\n(7,26): error CS1003: Syntax error, ',' expected\r\n(7,29): error CS1003: Syntax error, ',' expected\r\n(8,6): error CS1003: Syntax error, ',' expected\r\n(8,25): error CS1003: Syntax error, ',' expected\r\n(9,8): error CS1003: Syntax error, ',' expected\r\n(9,26): error CS1001: Identifier expected\r\n(9,26): error CS1003: Syntax error, ',' expected\r\n(9,29): error CS1003: Syntax error, ',' expected\r\n(9,36): error CS1001: Identifier expected\r\n(9,36): error CS1026: ) expected\r\n(9,36): error CS1002: ; expected",
     "output_type": "error",
     "traceback": [
      "(1,14): error CS1002: ; expected\r\n",
      "(1,14): error CS1525: Invalid expression term 'as'\r\n",
      "(1,19): error CS1002: ; expected\r\n",
      "(2,15): error CS1002: ; expected\r\n",
      "(2,15): error CS1525: Invalid expression term 'as'\r\n",
      "(2,20): error CS1002: ; expected\r\n",
      "(3,16): error CS1002: ; expected\r\n",
      "(3,16): error CS1525: Invalid expression term 'as'\r\n",
      "(3,22): error CS1002: ; expected\r\n",
      "(4,20): error CS1003: Syntax error, '(' expected\r\n",
      "(4,20): error CS1041: Identifier expected; 'as' is a keyword\r\n",
      "(5,6): error CS1003: Syntax error, ',' expected\r\n",
      "(5,22): error CS1003: Syntax error, ',' expected\r\n",
      "(6,6): error CS1003: Syntax error, ',' expected\r\n",
      "(6,23): error CS1003: Syntax error, ',' expected\r\n",
      "(7,8): error CS1003: Syntax error, ',' expected\r\n",
      "(7,26): error CS1001: Identifier expected\r\n",
      "(7,26): error CS1003: Syntax error, ',' expected\r\n",
      "(7,29): error CS1003: Syntax error, ',' expected\r\n",
      "(8,6): error CS1003: Syntax error, ',' expected\r\n",
      "(8,25): error CS1003: Syntax error, ',' expected\r\n",
      "(9,8): error CS1003: Syntax error, ',' expected\r\n",
      "(9,26): error CS1001: Identifier expected\r\n",
      "(9,26): error CS1003: Syntax error, ',' expected\r\n",
      "(9,29): error CS1003: Syntax error, ',' expected\r\n",
      "(9,36): error CS1001: Identifier expected\r\n",
      "(9,36): error CS1026: ) expected\r\n",
      "(9,36): error CS1002: ; expected"
     ]
    }
   ],
   "source": [
    "import numpy as np\n",
    "import pandas as pd\n",
    "import seaborn as sns\n",
    "import scipy.stats as stats\n",
    "from datetime import datetime\n",
    "from wordcloud import WordCloud\n",
    "import matplotlib.pyplot as plt\n",
    "from scipy.stats import ttest_ind\n",
    "import matplotlib.ticker as mticker"
   ]
  },
  {
   "attachments": {},
   "cell_type": "markdown",
   "metadata": {},
   "source": [
    "Reading CSV files 🔍"
   ]
  },
  {
   "cell_type": "code",
   "execution_count": 2,
   "metadata": {
    "dotnet_interactive": {
     "language": "csharp"
    },
    "polyglot_notebook": {
     "kernelName": "csharp"
    },
    "vscode": {
     "languageId": "polyglot-notebook"
    }
   },
   "outputs": [
    {
     "ename": "Error",
     "evalue": "(1,31): error CS1002: ; expected\r\n(2,47): error CS1002: ; expected\r\n(3,47): error CS1002: ; expected\r\n(4,47): error CS1002: ; expected\r\n(5,49): error CS1002: ; expected",
     "output_type": "error",
     "traceback": [
      "(1,31): error CS1002: ; expected\r\n",
      "(2,47): error CS1002: ; expected\r\n",
      "(3,47): error CS1002: ; expected\r\n",
      "(4,47): error CS1002: ; expected\r\n",
      "(5,49): error CS1002: ; expected"
     ]
    }
   ],
   "source": [
    "club = pd.read_csv(\"club.csv\")\n",
    "players_data = pd.read_csv(\"players_data.csv\") \n",
    "club_players = pd.read_csv(\"club_players.csv\")\n",
    "league_goals = pd.read_csv(\"league_goals.csv\")\n",
    "players_stats = pd.read_csv(\"players_stats.csv\")\n",
    "players_transfers = pd.read_csv(\"players_transfers.csv\")"
   ]
  },
  {
   "attachments": {},
   "cell_type": "markdown",
   "metadata": {},
   "source": [
    "آمار توصیفی 🌭"
   ]
  },
  {
   "attachments": {},
   "cell_type": "markdown",
   "metadata": {},
   "source": [
    "1️⃣"
   ]
  },
  {
   "cell_type": "code",
   "execution_count": null,
   "metadata": {
    "dotnet_interactive": {
     "language": "csharp"
    },
    "polyglot_notebook": {
     "kernelName": "csharp"
    },
    "vscode": {
     "languageId": "polyglot-notebook"
    }
   },
   "outputs": [],
   "source": [
    "minuts_play = players_stats.copy()\n",
    "minuts_play[\"appearances\"] = minuts_play[\"appearances\"].replace(\"-\", np.nan)\n",
    "minuts_play[\"appearances\"] = minuts_play[\"appearances\"].fillna(\"0\").astype(float).astype(int)\n",
    "sns.displot(minuts_play[\"appearances\"],kde = True, color = \"red\", bins = 60);"
   ]
  },
  {
   "cell_type": "code",
   "execution_count": null,
   "metadata": {
    "dotnet_interactive": {
     "language": "csharp"
    },
    "polyglot_notebook": {
     "kernelName": "csharp"
    },
    "vscode": {
     "languageId": "polyglot-notebook"
    }
   },
   "outputs": [],
   "source": [
    "appearances_in_season = players_stats.copy()\n",
    "appearances_in_season[\"appearances\"] = appearances_in_season[\"appearances\"].replace(\"-\", np.nan)\n",
    "sns.displot(appearances_in_season[\"appearances\"].dropna().astype(float).astype(int), kde = True, color = \"red\", bins = 60);"
   ]
  },
  {
   "attachments": {},
   "cell_type": "markdown",
   "metadata": {},
   "source": [
    "2️⃣"
   ]
  },
  {
   "cell_type": "code",
   "execution_count": null,
   "metadata": {
    "dotnet_interactive": {
     "language": "csharp"
    },
    "polyglot_notebook": {
     "kernelName": "csharp"
    },
    "vscode": {
     "languageId": "polyglot-notebook"
    }
   },
   "outputs": [],
   "source": [
    "#Cleaning Data and Making DataFrame ready as required\n",
    "\n",
    "filtered_df_2021 = club_players[club_players[\"Season\"] == 2021]\n",
    "data_df = pd.merge(players_stats, filtered_df_2021, left_on = \"id\", right_on = \"PlayerID\", how = \"inner\")\n",
    "data_df = data_df[[\"id\", \"Player_name\", \"Player_possition\", \"Player_MarketValue\", \"goals\"]]\n",
    "player_market_values_list = data_df[\"Player_MarketValue\"].tolist()\n",
    "player_market_values_list = [value.replace(\"\\xa0\", \"\").replace(\"€\", \"\") for value in player_market_values_list]\n",
    "\n",
    "final_list = []\n",
    "for i in range(len(player_market_values_list)):\n",
    "    if player_market_values_list[i] == \"\":\n",
    "        final_list += [\"\"]\n",
    "    elif player_market_values_list[i] == np.nan:\n",
    "        final_list += [np.nan]\n",
    "    else:\n",
    "        if (player_market_values_list[i][-1]) == \"m\":\n",
    "            final_list += [float(player_market_values_list[i].replace(\"m\", \"\")) * 1000000]\n",
    "        elif (player_market_values_list[i][-1]) == \"b\":\n",
    "            final_list += [float(player_market_values_list[i].replace(\"b\", \"\")) * 1000000000]\n",
    "        elif (player_market_values_list[i][-1]) == \"k\":\n",
    "            final_list += [float(player_market_values_list[i].replace(\"k\", \"\")) * 1000]\n",
    "\n",
    "data_df[\"Player_MarketValue\"] = final_list\n",
    "data_df = data_df.dropna(subset = [\"Player_MarketValue\"])\n",
    "data_df = data_df[data_df[\"Player_MarketValue\"] != \"\"]\n",
    "data_df = data_df[data_df[\"Player_MarketValue\"] != 0]\n",
    "data_df[\"goals\"].replace([\"-\", np.nan], 0, inplace = True)\n",
    "data_df[\"Player_MarketValue\"] = data_df[\"Player_MarketValue\"].astype(int)\n",
    "data_df[\"goals\"] = pd.to_numeric(data_df[\"goals\"], errors = \"coerce\")\n",
    "unique_positions = list(data_df[\"Player_possition\"].unique())"
   ]
  },
  {
   "cell_type": "code",
   "execution_count": null,
   "metadata": {
    "dotnet_interactive": {
     "language": "csharp"
    },
    "polyglot_notebook": {
     "kernelName": "csharp"
    },
    "vscode": {
     "languageId": "polyglot-notebook"
    }
   },
   "outputs": [],
   "source": [
    "#Regression Plot for all players\n",
    "\n",
    "fig, ax = plt.subplots(figsize = (15, 6))\n",
    "sns.regplot(x = \"goals\", y = \"Player_MarketValue\", data = data_df, line_kws = {\"color\" : \"red\"}, ci = 90)\n",
    "plt.title(\"Relation between Players Market Value and Goals\", fontweight = \"bold\", fontsize = 15)\n",
    "plt.ylabel(\"Player Market Value\", fontweight = \"bold\", fontsize = 12)\n",
    "plt.xlabel(\"Goals\", fontweight = \"bold\", fontsize = 12)\n",
    "ax.set_xticks(range(0, 51, 5))\n",
    "plt.show()"
   ]
  },
  {
   "attachments": {},
   "cell_type": "markdown",
   "metadata": {},
   "source": [
    "3️⃣"
   ]
  },
  {
   "cell_type": "code",
   "execution_count": null,
   "metadata": {
    "dotnet_interactive": {
     "language": "csharp"
    },
    "polyglot_notebook": {
     "kernelName": "csharp"
    },
    "vscode": {
     "languageId": "polyglot-notebook"
    }
   },
   "outputs": [],
   "source": [
    "# Regression Plot for Attacking players\n",
    "\n",
    "attack_df = data_df[data_df[\"Player_possition\"].isin([\"Right Winger\", \"Left Winger\", \"Centre-Forward\", \"Second Striker\"])]\n",
    "\n",
    "fig, ax = plt.subplots(figsize = (15, 6))\n",
    "sns.regplot(x = \"goals\", y = \"Player_MarketValue\", data = attack_df, line_kws = {\"color\" : \"red\"}, ci = 90)\n",
    "plt.title(\"Relation between Attacking Players Market Value and Goals\", fontweight = \"bold\", fontsize = 15)\n",
    "plt.ylabel(\"Player Market Value\", fontweight = \"bold\", fontsize = 12)\n",
    "plt.xlabel(\"Goals\", fontweight = \"bold\", fontsize = 12)\n",
    "ax.set_xticks(range(0, 51, 5))\n",
    "plt.show()"
   ]
  },
  {
   "attachments": {},
   "cell_type": "markdown",
   "metadata": {},
   "source": [
    "4️⃣"
   ]
  },
  {
   "cell_type": "code",
   "execution_count": null,
   "metadata": {
    "dotnet_interactive": {
     "language": "csharp"
    },
    "polyglot_notebook": {
     "kernelName": "csharp"
    },
    "vscode": {
     "languageId": "polyglot-notebook"
    }
   },
   "outputs": [],
   "source": [
    "#Distribution of MarketValue based on players position\n",
    "\n",
    "sum_df = data_df.groupby(\"Player_possition\")[\"Player_MarketValue\"].sum()\n",
    "mv_sum_df = pd.DataFrame({\"Player_position\" : sum_df.index, \"Value\" : sum_df.values})\n",
    "mv_sum_df = mv_sum_df.sort_values(\"Value\", ascending = False)\n",
    "\n",
    "fig, ax = plt.subplots(figsize = (12, 6))\n",
    "colors = [\"#FF5733\", \"#C70039\", \"#900C3F\", \"#581845\", \"#000003\", \"#410967\", \"#932567\", \"#DC5039\", \"#FBA40A\", \"#FCFEA4\"]\n",
    "bars = ax.barh(mv_sum_df[\"Player_position\"], mv_sum_df[\"Value\"], color = colors, edgecolor = \"black\")\n",
    "plt.xlabel(\"Market Value\", fontweight = \"bold\", fontsize = 12)\n",
    "plt.ylabel(\"Positions\", fontweight = \"bold\", fontsize = 12)\n",
    "plt.title(\"Estimated Market Value Price Distribution of Players Based on Position\", fontweight = \"bold\", fontsize = 12)\n",
    "ax.xaxis.set_visible(False)\n",
    "for i, bar in enumerate(bars):\n",
    "    value = bar.get_width()\n",
    "    formatted_value = \"{:,.0f}\".format(value)\n",
    "    ax.text(value, bar.get_y() + bar.get_height() / 2, formatted_value, ha = \"left\", va = \"center\")\n",
    "\n",
    "ax.xaxis.set_major_formatter(mticker.StrMethodFormatter(\"{x:,.0f}\"))\n",
    "ax.spines[\"top\"].set_visible(False)\n",
    "ax.spines[\"right\"].set_visible(False)\n",
    "ax.spines[\"bottom\"].set_visible(False)\n",
    "plt.show()"
   ]
  },
  {
   "cell_type": "code",
   "execution_count": null,
   "metadata": {
    "dotnet_interactive": {
     "language": "csharp"
    },
    "polyglot_notebook": {
     "kernelName": "csharp"
    },
    "vscode": {
     "languageId": "polyglot-notebook"
    }
   },
   "outputs": [],
   "source": [
    "#Histogram for each Position\n",
    "\n",
    "for i in unique_positions:\n",
    "    selected_position = data_df[data_df[\"Player_possition\"] == i].copy()\n",
    "    sns.histplot(selected_position[\"Player_MarketValue\"], kde = True, color = \"orange\")\n",
    "    plt.xlabel(\"Players Market Value\", fontweight = \"bold\", fontsize = 12)\n",
    "    plt.ylabel(\"Frequency\", fontweight = \"bold\", fontsize = 12)\n",
    "    plt.title(\"Histogram of Players Market Values Based on Position : \" + i, fontweight = \"bold\", fontsize = 14)\n",
    "    plt.show()"
   ]
  },
  {
   "attachments": {},
   "cell_type": "markdown",
   "metadata": {},
   "source": [
    "5️⃣"
   ]
  },
  {
   "cell_type": "code",
   "execution_count": null,
   "metadata": {
    "dotnet_interactive": {
     "language": "csharp"
    },
    "polyglot_notebook": {
     "kernelName": "csharp"
    },
    "vscode": {
     "languageId": "polyglot-notebook"
    }
   },
   "outputs": [],
   "source": [
    "#Total Goals for each League in Season 2021/2022 \n",
    "\n",
    "league_goals_filtered_season = league_goals[league_goals[\"Season\"] == 2021]\n",
    "data = league_goals_filtered_season[\"Goals\"].tolist()\n",
    "x_labels = league_goals_filtered_season[\"League\"].tolist()\n",
    "\n",
    "fig, ax = plt.subplots(figsize = (7, 6))\n",
    "plt.bar(range(len(data)), data, color = \"royalblue\", alpha = 0.7, edgecolor = \"black\")\n",
    "plt.grid(color = \"#95a5a6\", linestyle = \"--\", linewidth = 2, axis = \"y\", alpha = 0.7)\n",
    "\n",
    "for i, value in enumerate(data):\n",
    "    plt.text(i, value, str(value), ha = \"center\", va = \"bottom\", fontsize = 10)\n",
    "\n",
    "plt.xticks(range(len(data)), x_labels)\n",
    "plt.title(\"Total Goals Scored in Season 21/22 for each League\", fontweight = \"bold\", fontsize = 14)\n",
    "plt.xlabel(\"League\", fontweight = \"bold\", fontsize = 12)\n",
    "plt.ylabel(\"Total Goals in season 21/22\", fontweight = \"bold\", fontsize = 12)\n",
    "plt.show()"
   ]
  },
  {
   "cell_type": "code",
   "execution_count": null,
   "metadata": {
    "dotnet_interactive": {
     "language": "csharp"
    },
    "polyglot_notebook": {
     "kernelName": "csharp"
    },
    "vscode": {
     "languageId": "polyglot-notebook"
    }
   },
   "outputs": [],
   "source": [
    "#Total Goals for each League for all seasons\n",
    "\n",
    "League_list = league_goals[\"League\"].tolist()\n",
    "Season_list = league_goals[\"Season\"].tolist()\n",
    "Goals_list = league_goals[\"Goals\"].tolist()\n",
    "\n",
    "plt.figure(figsize = (12, 6))\n",
    "country_colors = {\"Premier League\" : \"red\", \"LaLiga\" : \"blue\", \"Ligue 1\" : \"green\", \"Bundesliga\" : \"orange\", \"Serie A\" : \"purple\"}\n",
    "\n",
    "plt.scatter(Season_list, Goals_list, c = [country_colors[country] for country in League_list])\n",
    "\n",
    "plt.xlabel(\"Season\", fontweight = \"bold\", fontsize = 12)\n",
    "plt.ylabel(\"Total Goals\", fontweight = \"bold\", fontsize = 12)\n",
    "plt.title(\"Total Goals for each League for each season\", fontweight = \"bold\", fontsize = 12)\n",
    "\n",
    "legend_labels = list(country_colors.keys())\n",
    "legend_handles = [plt.scatter([], [], c = country_colors[country]) for country in legend_labels]\n",
    "plt.legend(legend_handles, legend_labels)\n",
    "plt.show()"
   ]
  },
  {
   "cell_type": "code",
   "execution_count": null,
   "metadata": {
    "dotnet_interactive": {
     "language": "csharp"
    },
    "polyglot_notebook": {
     "kernelName": "csharp"
    },
    "vscode": {
     "languageId": "polyglot-notebook"
    }
   },
   "outputs": [],
   "source": [
    "data = {\"Country\" : League_list, \"Season\" : Season_list, \"Goals\" : Goals_list}\n",
    "colors = [\"#2A2F4F\", \"#917FB3\", \"#E5BEEC\", \"#FDE2F3\", \"#9BC2F9\", \"#8696FE\", \"#C4B0FF\"]\n",
    "league_goals = pd.DataFrame(data)\n",
    "countries = league_goals[\"Country\"].unique()\n",
    "years = league_goals[\"Season\"].unique()\n",
    "bar_width = 0.12\n",
    "value = np.arange(len(countries))\n",
    "\n",
    "fig, ax = plt.subplots(figsize = (20, 8))\n",
    "\n",
    "for i, year in enumerate(years):\n",
    "    goals = league_goals[league_goals[\"Season\"] == year][\"Goals\"]\n",
    "    ax.bar(value + (i * bar_width), goals, bar_width, label = str(year), color = colors[i % len(colors)])\n",
    "    for j, goal in enumerate(goals):\n",
    "        ax.text(value[j] + (i * bar_width), goal, str(goal), ha = \"center\", va = \"bottom\")\n",
    "\n",
    "ax.set_xticks(value)\n",
    "ax.set_xticklabels(countries)\n",
    "plt.xlabel(\"Season\", fontweight = \"bold\", fontsize = 15)\n",
    "plt.ylabel(\"Total Goals\", fontweight = \"bold\", fontsize = 15)\n",
    "plt.title(\"Total goals for each League for each season\", fontweight = \"bold\", fontsize = 18)\n",
    "ax.legend(loc = \"upper center\", bbox_to_anchor = (0.5, -0.15), ncol = len(years))\n",
    "plt.show()"
   ]
  },
  {
   "attachments": {},
   "cell_type": "markdown",
   "metadata": {},
   "source": [
    "6️⃣"
   ]
  },
  {
   "cell_type": "code",
   "execution_count": null,
   "metadata": {
    "dotnet_interactive": {
     "language": "csharp"
    },
    "polyglot_notebook": {
     "kernelName": "csharp"
    },
    "vscode": {
     "languageId": "polyglot-notebook"
    }
   },
   "outputs": [],
   "source": [
    "#Get Data ready\n",
    "\n",
    "def right_format(value):\n",
    "    value = value.replace(\"€\", \"\")\n",
    "    if \"m\" == value[-1]:\n",
    "            value = value.replace(\"m\", \"\")\n",
    "            value = float(value) * (10 ** 6)\n",
    "    elif \"k\" == value[-1]:\n",
    "        value = value.replace(\"k\", \"\")\n",
    "        value = float(value) * (10 ** 3)\n",
    "    elif \"b\" == value[-1]:\n",
    "        value = value.replace(\"b\", \"\")\n",
    "        value = float(value) * (10 ** 9)\n",
    "               \n",
    "    return value\n",
    "\n",
    "transfer = players_transfers.copy()\n",
    "transfer[\"fee\"] = transfer[\"fee\"].replace(\"loan transfer\", np.nan).replace(\"End of loan\", np.nan).replace(\"free transfer\", np.nan).replace(\"draft\", ).replace(\"?\", np.nan).replace(\"-\", np.nan)\n",
    "transfer.dropna(subset = [\"fee\"], inplace = True)\n",
    "transfer[\"fee\"] = transfer[\"fee\"].astype(str)\n",
    "transfer[\"fee\"] = transfer[\"fee\"].apply(lambda x: x.replace(\"Loan fee:\", \"\"))\n",
    "transfer[\"mv\"] = transfer[\"mv\"].replace(\"loan transfer\", np.nan).replace(\"End of loan\", np.nan).replace(\"free transfer\", np.nan).replace(\"draft\", ).replace(\"?\", np.nan).replace(\"-\", np.nan)\n",
    "transfer.dropna(subset = [\"mv\"], inplace = True)\n",
    "transfer[\"mv\"] = transfer[\"mv\"].astype(str)\n",
    "transfer[\"mv\"] = transfer[\"mv\"].apply(lambda x: x.replace(\"Loan fee:\", \"\"))\n",
    "transfer[\"fee\"] = transfer[\"fee\"].apply(right_format).astype(float)\n",
    "transfer[\"mv\"] = transfer[\"mv\"].apply(right_format).astype(float)\n",
    "transfer[\"season\"] = transfer[\"season\"].apply(lambda x: \"20\" + str(x.split(\"/\")[0]))\n",
    "transfer.rename(columns = {\"season\" : \"Season\", \"player_id\" : \"PlayerID\"}, inplace = True)\n",
    "transfer[\"Season\"] = transfer[\"Season\"].astype(int)\n",
    "result = pd.merge(transfer, club_players, on = [\"Season\", \"PlayerID\"])\n",
    "result = result.groupby([\"joined\", \"Season\"])[\"fee\"].sum().reset_index()\n"
   ]
  },
  {
   "cell_type": "code",
   "execution_count": null,
   "metadata": {
    "dotnet_interactive": {
     "language": "csharp"
    },
    "polyglot_notebook": {
     "kernelName": "csharp"
    },
    "vscode": {
     "languageId": "polyglot-notebook"
    }
   },
   "outputs": [],
   "source": [
    "plt.subplots(figsize = (60, 20))\n",
    "sns.scatterplot(x = \"joined\", y = \"fee\", hue = \"Season\", data = result, legend = False)\n",
    "plt.xticks(rotation = 90);"
   ]
  },
  {
   "cell_type": "code",
   "execution_count": null,
   "metadata": {
    "dotnet_interactive": {
     "language": "csharp"
    },
    "polyglot_notebook": {
     "kernelName": "csharp"
    },
    "vscode": {
     "languageId": "polyglot-notebook"
    }
   },
   "outputs": [],
   "source": [
    "sns.scatterplot(x = \"Season\", y = \"fee\", hue = \"joined\", data = result, legend = False);"
   ]
  },
  {
   "cell_type": "code",
   "execution_count": null,
   "metadata": {
    "dotnet_interactive": {
     "language": "csharp"
    },
    "polyglot_notebook": {
     "kernelName": "csharp"
    },
    "vscode": {
     "languageId": "polyglot-notebook"
    }
   },
   "outputs": [],
   "source": [
    "sns.scatterplot(x = \"Season\", y = \"fee\", hue = \"joined\", data = transfer, legend = False);"
   ]
  },
  {
   "attachments": {},
   "cell_type": "markdown",
   "metadata": {},
   "source": [
    "درخواست کارشناس 🍕"
   ]
  },
  {
   "cell_type": "code",
   "execution_count": null,
   "metadata": {
    "dotnet_interactive": {
     "language": "csharp"
    },
    "polyglot_notebook": {
     "kernelName": "csharp"
    },
    "vscode": {
     "languageId": "polyglot-notebook"
    }
   },
   "outputs": [],
   "source": [
    "#Cleaning Data\n",
    "players_transfers[\"fee\"] = players_transfers[\"fee\"].replace(\"loan transfer\", np.nan).replace(\"End of loan\", np.nan).replace(\"free transfer\", np.nan).replace(\"draft\", np.nan).replace(\"?\", np.nan).replace(\"-\", np.nan)\n",
    "players_transfers.dropna(subset = [\"fee\"], inplace = True)\n",
    "players_transfers[\"fee\"] = players_transfers[\"fee\"].astype(str)\n",
    "players_transfers[\"fee\"] = players_transfers[\"fee\"].apply(lambda x: x.replace(\"Loan fee:\", \"\"))\n",
    "\n",
    "players_transfers[\"fee\"] = players_transfers[\"fee\"].apply(right_format).astype(float)\n",
    "players_transfers[\"mv\"] = players_transfers[\"mv\"].replace(\"?\", np.nan).replace(\"-\", np.nan)\n",
    "players_transfers.dropna(subset = [\"mv\"], inplace = True)\n",
    "players_transfers[\"mv\"] = players_transfers[\"mv\"].astype(str)\n",
    "players_transfers[\"mv\"] = players_transfers[\"mv\"].apply(right_format).astype(float)"
   ]
  },
  {
   "cell_type": "code",
   "execution_count": null,
   "metadata": {
    "dotnet_interactive": {
     "language": "csharp"
    },
    "polyglot_notebook": {
     "kernelName": "csharp"
    },
    "vscode": {
     "languageId": "polyglot-notebook"
    }
   },
   "outputs": [],
   "source": [
    "for i in [\"17\", \"18\", \"19\", \"20\", \"21\"]:\n",
    "    transfer_season = players_transfers[players_transfers[\"season\"].str.startswith(i)].copy()\n",
    "    transfer_season[\"mv_fee_diff\"] = transfer_season[\"fee\"] - transfer_season[\"mv\"]\n",
    "    fig, axes = plt.subplots(ncols = 3, figsize = (15, 6))\n",
    "    sns.histplot(transfer_season[\"mv\"], kde = True, color = \"blue\", ax = axes[0])\n",
    "    axes[0].set_xlabel(\"Market Value\", fontweight = \"bold\", fontsize = 12)\n",
    "    sns.histplot(transfer_season[\"fee\"], kde = True, color  = \"red\", ax = axes[1])\n",
    "    axes[1].set_xlabel(\"Fee\", fontweight = \"bold\", fontsize = 12)\n",
    "    sns.histplot(transfer_season[\"mv_fee_diff\"], kde = True, color = \"green\")\n",
    "    axes[2].set_xlabel(\"Difference of Fee and Market Value\", fontweight = \"bold\", fontsize = 12)\n",
    "    fig.suptitle(f\"Market Value Comparing the real Fee that is paid in Season 20{i}\", fontweight = \"bold\", fontsize = 14)\n",
    "    plt.tight_layout()\n",
    "    plt.show()"
   ]
  },
  {
   "attachments": {},
   "cell_type": "markdown",
   "metadata": {},
   "source": [
    "درخواست بازیکنان 🍔"
   ]
  },
  {
   "cell_type": "code",
   "execution_count": null,
   "metadata": {
    "dotnet_interactive": {
     "language": "csharp"
    },
    "polyglot_notebook": {
     "kernelName": "csharp"
    },
    "vscode": {
     "languageId": "polyglot-notebook"
    }
   },
   "outputs": [],
   "source": [
    "#Getting DataFrame ready\n",
    "\n",
    "all_players_stats = players_stats.copy()\n",
    "players_2021 = club_players[club_players[\"Season\"] == 2021]\n",
    "players_requests = pd.merge(players_2021, all_players_stats, left_on = \"PlayerID\", right_on = \"id\")\n",
    "players_requests[\"minutes_played\"] = players_requests[\"minutes_played\"].str.replace(\"[.'']\", \"\", regex = True)\n",
    "players_requests.replace({\"-\" : 0, np.nan : 0}, inplace = True)\n",
    "players_requests.drop(columns = [\"Unnamed: 0\", \"id\", \"name\", \"ClubID\", \"Season\"], inplace = True)\n",
    "players_requests[\"goals\"] = players_requests[\"goals\"].astype(int)\n",
    "players_requests[\"minutes_played\"] = players_requests[\"minutes_played\"].astype(int)\n",
    "players_requests[\"goals_per_minute\"] = (players_requests[\"minutes_played\"] / players_requests[\"goals\"]).round(2)\n",
    "players_requests.replace([np.inf, -np.inf, np.nan], 0, inplace = True)\n",
    "columns_change_type = [\"appearances\", \"goals\", \"asists\", \"yellow_cards\", \"second_yellow_cards\", \"red_cards\", \"minutes_played\", \"goals_conceded\", \"clean_sheets\"]\n",
    "players_requests[columns_change_type] = players_requests[columns_change_type].astype(float).astype(int)\n",
    "players_requests.rename(columns = {\"id\":\"PlayerID\"}, inplace= True)\n",
    "\n",
    "#Divide players base on their position\n",
    "\n",
    "football_defender = players_requests[players_requests[\"Player_possition\"].isin([\"Centre-Back\", \"Left-Back\", \"Right-Back\"])]\n",
    "football_goalkeeper = players_requests[players_requests[\"Player_possition\"].isin([\"Goalkeeper\"])]\n",
    "football_striker = players_requests[players_requests[\"Player_possition\"].isin([\"Centre-Forward\", \"Right Winger\", \"Left Winger\", \"Second Striker\"])]\n",
    "football_midfielder = players_requests[players_requests[\"Player_possition\"].isin([\"Left Midfield\", \"Right Midfield\", \"Central Midfield\", \"Defensive Midfield\", \"Attacking Midfield\"])]\n",
    "\n",
    "#Get football_goalkeeper DataFrame ready\n",
    "\n",
    "football_goalkeeper = football_goalkeeper.copy()\n",
    "football_goalkeeper.loc[:, \"goals_conceded_per_minute\"] = (football_goalkeeper[\"minutes_played\"] / football_goalkeeper[\"goals_conceded\"]).round(2)\n",
    "football_goalkeeper.replace([np.inf, -np.inf, np.nan], 0, inplace = True)\n",
    "\n",
    "#Convert Market Value to correct form \n",
    "\n",
    "players_requests[\"Player_MarketValue\"] = players_requests[\"Player_MarketValue\"].replace(\"\\xa0\", np.nan)\n",
    "players_requests = players_requests.dropna(subset = [\"Player_MarketValue\"])\n",
    "\n",
    "player_market_values_list = players_requests[\"Player_MarketValue\"].tolist()\n",
    "player_market_values_list = [value.replace(\"\\xa0\", \"\").replace(\"€\", \"\") for value in player_market_values_list]\n",
    "final_list = []\n",
    "for i in range(len(player_market_values_list)):\n",
    "    if player_market_values_list[i] == \"\":\n",
    "        final_list += [\"\"]\n",
    "    elif player_market_values_list[i] == np.nan:\n",
    "        final_list += [np.nan]\n",
    "    else:\n",
    "        if (player_market_values_list[i][-1]) == \"m\":\n",
    "            final_list += [float(player_market_values_list[i].replace(\"m\", \"\")) * 1000000]\n",
    "        elif (player_market_values_list[i][-1]) == \"b\":\n",
    "            final_list += [float(player_market_values_list[i].replace(\"b\", \"\")) * 1000000000]\n",
    "        elif (player_market_values_list[i][-1]) == \"k\":\n",
    "            final_list += [float(player_market_values_list[i].replace(\"k\", \"\")) * 1000]\n",
    "players_requests[\"Player_MarketValue\"] = final_list\n",
    "players_requests[\"Player_MarketValue\"] = players_requests[\"Player_MarketValue\"].astype(int)"
   ]
  },
  {
   "cell_type": "code",
   "execution_count": null,
   "metadata": {
    "dotnet_interactive": {
     "language": "csharp"
    },
    "polyglot_notebook": {
     "kernelName": "csharp"
    },
    "vscode": {
     "languageId": "polyglot-notebook"
    }
   },
   "outputs": [],
   "source": [
    "#club_players_2021\n",
    "\n",
    "club_players_2021 = club_players[club_players[\"Season\"] == 2021]\n",
    "goalkeeper = pd.merge(football_goalkeeper, club_players_2021, on = [\"PlayerID\"], how = \"inner\").drop_duplicates()\n",
    " \n",
    "#MERGE TABLES \"football_defender\" AND \"club_players\"\n",
    "\n",
    "defender = pd.merge(football_defender, club_players_2021, on = [\"PlayerID\", \"Player_possition\"]).drop_duplicates()\n",
    "defender.drop([\"goals_conceded\", \"clean_sheets\"], axis = 1)\n",
    "\n",
    "#MERGE TABLES \"football_midfielder\" AND \"club_players\"\n",
    "\n",
    "midfielder = pd.merge(football_midfielder, club_players_2021, on=[\"PlayerID\", \"Player_possition\"]).drop_duplicates()\n",
    "midfielder.drop([\"goals_conceded\", \"clean_sheets\"], axis = 1)\n",
    "\n",
    "#MERGE TABLES \"football_striker\" AND \"club_players\"\n",
    "\n",
    "striker = pd.merge(football_striker, club_players_2021, on = [\"PlayerID\", \"Player_possition\"]).drop_duplicates()\n",
    "striker.drop([\"goals_conceded\", \"clean_sheets\"], axis = 1)\n",
    "\n",
    "#club_name_Season_2021\n",
    "\n",
    "clubs_2021 = club[club[\"Season\"] == 2021]\n",
    "\n",
    "#Defensive performance of the team\n",
    "goalkeeper_team = goalkeeper.copy()\n",
    "goalkeeper_team = goalkeeper_team[[\"ClubID\" ,\"goals_conceded\", \"clean_sheets\"]]\n",
    "goalkeeper_team = goalkeeper_team.groupby(\"ClubID\").sum([\"goals_conceded\", \"clean_sheets\"])\n",
    "\n",
    "Defensive_performance = pd.merge(clubs_2021, goalkeeper_team, on = \"ClubID\")\n",
    "Defensive_performance = Defensive_performance[[\"Club\", \"goals_conceded\", \"clean_sheets\"]]\n",
    "Defensive_performance = Defensive_performance.sort_values(by = [\"goals_conceded\", \"clean_sheets\"], ascending = True).reset_index(drop = True)\n",
    "\n",
    "striker_team = striker.copy()\n",
    "striker_team = striker_team[[\"ClubID\" , \"goals\" , \"asists\"]]\n",
    "striker_team = striker_team.groupby(\"ClubID\").sum([\"goals\", \"asists\"])\n",
    "\n",
    "Offensive_performance = pd.merge(clubs_2021, striker_team, on = \"ClubID\")\n",
    "Offensive_performance = Offensive_performance[[\"Club\", \"goals\", \"asists\", \"Rank\", \"League\"]]\n",
    "Offensive_performance = Offensive_performance.sort_values(by = [\"goals\", \"asists\"], ascending = False).reset_index(drop = True)\n",
    "\n",
    "Comparison = pd.merge( Defensive_performance, Offensive_performance, on = \"Club\" )\n",
    "Comparison[\"performance\"] = (Comparison[\"goals\"] / Comparison[\"goals_conceded\"]).round(2)\n",
    "Comparison.sort_values(by = [\"performance\"], ascending = True).reset_index(drop = True)\n",
    "\n",
    "#final_Comparison\n",
    "\n",
    "final_Comparison = Comparison.copy()\n",
    "final_Comparison = final_Comparison[[\"Club\", \"goals_conceded\", \"goals\", \"performance\"]]\n",
    "final_Comparison = final_Comparison.sort_values([\"performance\", \"goals\", \"goals_conceded\"],ascending = [True, True, True]).reset_index(drop = True)\n",
    "display(final_Comparison)"
   ]
  },
  {
   "attachments": {},
   "cell_type": "markdown",
   "metadata": {},
   "source": [
    "درخواست مربی 🍟"
   ]
  },
  {
   "cell_type": "code",
   "execution_count": null,
   "metadata": {
    "dotnet_interactive": {
     "language": "csharp"
    },
    "polyglot_notebook": {
     "kernelName": "csharp"
    },
    "vscode": {
     "languageId": "polyglot-notebook"
    }
   },
   "outputs": [],
   "source": [
    "#Getting DataFrame of all players 2021\n",
    "\n",
    "players_2021 = club_players[club_players[\"Season\"] == 2021]\n",
    "players_requests = pd.merge(players_2021, players_stats, left_on = \"PlayerID\", right_on = \"id\")\n",
    "players_requests[\"minutes_played\"] = players_requests[\"minutes_played\"].str.replace(\"[.'']\", \"\", regex = True)\n",
    "players_requests.replace({\"-\" : 0, np.nan : 0}, inplace = True)\n",
    "players_requests.drop(columns = [\"Unnamed: 0\", \"id\", \"name\", \"ClubID\", \"Season\"], inplace = True)\n",
    "players_requests[\"goals\"] = players_requests[\"goals\"].astype(int)\n",
    "players_requests[\"minutes_played\"] = players_requests[\"minutes_played\"].astype(int)\n",
    "players_requests[\"goals_per_minute\"] = (players_requests[\"minutes_played\"] / players_requests[\"goals\"]).round(2)\n",
    "players_requests.replace([np.inf, -np.inf, np.nan], 0, inplace = True)\n",
    "columns_change_type = [\"appearances\", \"goals\", \"asists\", \"yellow_cards\", \"second_yellow_cards\", \"red_cards\", \"minutes_played\", \"goals_conceded\", \"clean_sheets\"]\n",
    "players_requests[columns_change_type] = players_requests[columns_change_type].astype(float).astype(int)\n",
    "coaches_requests = players_requests.copy()\n",
    "coaches_requests[\"Player_MarketValue\"] = coaches_requests[\"Player_MarketValue\"].replace(\"\\xa0\", np.nan)\n",
    "coaches_requests = coaches_requests.dropna(subset = [\"Player_MarketValue\"])\n",
    "\n",
    "#Convert Market Value to correct form \n",
    "\n",
    "player_market_values_list = coaches_requests[\"Player_MarketValue\"].tolist()\n",
    "player_market_values_list = [value.replace(\"\\xa0\", \"\").replace(\"€\", \"\") for value in player_market_values_list]\n",
    "final_list = []\n",
    "for i in range(len(player_market_values_list)):\n",
    "    if player_market_values_list[i] == \"\":\n",
    "        final_list += [\"\"]\n",
    "    elif player_market_values_list[i] == np.nan:\n",
    "        final_list += [np.nan]\n",
    "    else:\n",
    "        if (player_market_values_list[i][-1]) == \"m\":\n",
    "            final_list += [float(player_market_values_list[i].replace(\"m\", \"\")) * 1000000]\n",
    "        elif (player_market_values_list[i][-1]) == \"b\":\n",
    "            final_list += [float(player_market_values_list[i].replace(\"b\", \"\")) * 1000000000]\n",
    "        elif (player_market_values_list[i][-1]) == \"k\":\n",
    "            final_list += [float(player_market_values_list[i].replace(\"k\", \"\")) * 1000]\n",
    "\n",
    "coaches_requests[\"Player_MarketValue\"] = final_list\n",
    "coaches_requests[\"Player_MarketValue\"] = coaches_requests[\"Player_MarketValue\"].astype(int)"
   ]
  },
  {
   "cell_type": "code",
   "execution_count": null,
   "metadata": {
    "dotnet_interactive": {
     "language": "csharp"
    },
    "polyglot_notebook": {
     "kernelName": "csharp"
    },
    "vscode": {
     "languageId": "polyglot-notebook"
    }
   },
   "outputs": [],
   "source": [
    "#players in the bottom 40% in terms of price\n",
    "\n",
    "bottom_40_percent = coaches_requests[coaches_requests[\"Player_MarketValue\"] <= coaches_requests[\"Player_MarketValue\"].quantile(0.4)]\n",
    "bottom_40_percent = bottom_40_percent.sort_values(by = [\"Player_MarketValue\"], ascending = True)\n",
    "display(bottom_40_percent)"
   ]
  },
  {
   "cell_type": "code",
   "execution_count": null,
   "metadata": {
    "dotnet_interactive": {
     "language": "csharp"
    },
    "polyglot_notebook": {
     "kernelName": "csharp"
    },
    "vscode": {
     "languageId": "polyglot-notebook"
    }
   },
   "outputs": [],
   "source": [
    "#Divide players base on their position\n",
    "\n",
    "football_defender_2 = coaches_requests[coaches_requests[\"Player_possition\"].isin([\"Centre-Back\", \"Left-Back\", \"Right-Back\"])]\n",
    "football_goalkeeper_2 = coaches_requests[coaches_requests[\"Player_possition\"].isin([\"Goalkeeper\"])]\n",
    "football_striker_2 = coaches_requests[coaches_requests[\"Player_possition\"].isin([\"Centre-Forward\", \"Right Winger\", \"Left Winger\", \"Second Striker\"])]\n",
    "football_midfielder_2 = coaches_requests[coaches_requests[\"Player_possition\"].isin([\"Left Midfield\", \"Right Midfield\", \"Central Midfield\", \"Defensive Midfield\", \"Attacking Midfield\"])]\n",
    "\n",
    "#Get football_goalkeeper DataFrame ready\n",
    "\n",
    "football_goalkeeper_2 = football_goalkeeper_2.copy()\n",
    "football_goalkeeper_2.loc[:, \"goals_conceded_per_minute\"] = (football_goalkeeper_2[\"minutes_played\"] / football_goalkeeper_2[\"goals_conceded\"]).round(2)\n",
    "football_goalkeeper_2.replace([np.inf, -np.inf, np.nan], 0, inplace = True)"
   ]
  },
  {
   "cell_type": "code",
   "execution_count": null,
   "metadata": {
    "dotnet_interactive": {
     "language": "csharp"
    },
    "polyglot_notebook": {
     "kernelName": "csharp"
    },
    "vscode": {
     "languageId": "polyglot-notebook"
    }
   },
   "outputs": [],
   "source": [
    "#Goalkeepers_performance\n",
    "\n",
    "football_goalkeeper_per = football_goalkeeper_2.dropna(subset = [\"Player_MarketValue\"])\n",
    "football_goalkeeper_per = football_goalkeeper_per[[\"Player_name\", \"goals_conceded_per_minute\", \"clean_sheets\", \"appearances\", \"minutes_played\"]]\n",
    "football_goalkeeper_per[\"normalized_gcpm\"] = football_goalkeeper_per[\"goals_conceded_per_minute\"] / football_goalkeeper_per[\"minutes_played\"]\n",
    "football_goalkeeper_per[\"normalized_csp\"] = (football_goalkeeper_per[\"clean_sheets\"] * football_goalkeeper_per[\"minutes_played\"]) \n",
    "football_goalkeeper_per[\"weighted_average\"] = (0.5 * football_goalkeeper_per[\"normalized_gcpm\"] + 0.3 * football_goalkeeper_per[\"normalized_csp\"] + 0.2 * football_goalkeeper_per[\"appearances\"]).round(2)\n",
    "football_goalkeeper_per = football_goalkeeper_per[[\"Player_name\", \"weighted_average\"]]\n",
    "football_goalkeeper_per = football_goalkeeper_per.dropna(subset = [\"weighted_average\"])\n",
    "football_goalkeeper_per.drop_duplicates(inplace = True)\n",
    "high_30_percent_goalkeeper =  football_goalkeeper_per[football_goalkeeper_per[\"weighted_average\"] >= football_goalkeeper_per[\"weighted_average\"].quantile(0.7)]\n",
    "high_30_percent_goalkeeper = high_30_percent_goalkeeper.sort_values(\"weighted_average\", ascending = False)\n",
    "display(high_30_percent_goalkeeper)\n",
    "\n",
    "#defender_performance\n",
    "\n",
    "football_defenderr_per = football_defender_2.dropna(subset = [\"Player_MarketValue\"])\n",
    "football_defenderr_per[\"cards\"] = football_defenderr_per[\"yellow_cards\"] + football_defenderr_per[\"second_yellow_cards\"] + football_defenderr_per[\"red_cards\"]\n",
    "football_defenderr_per = football_defenderr_per[[\"Player_name\", \"goals\", \"asists\", \"cards\", \"minutes_played\", \"appearances\", \"goals_per_minute\"]]\n",
    "football_defenderr_per[\"weighted_average\"] = ((football_defenderr_per[\"minutes_played\"] / football_defenderr_per[\"appearances\"]) * 0.5 + ((football_defenderr_per[\"goals\"] + football_defenderr_per[\"asists\"])) * 0.3 - (football_defenderr_per[\"cards\"] / football_defenderr_per[\"appearances\"]) * 0.2).round(2)\n",
    "football_defenderr_per = football_defenderr_per[[\"Player_name\", \"weighted_average\"]]\n",
    "football_defenderr_per = football_defenderr_per.dropna(subset = [\"weighted_average\"])\n",
    "football_defenderr_per.drop_duplicates(inplace = True)\n",
    "high_30_percent_defenderr =  football_defenderr_per[football_defenderr_per[\"weighted_average\"] >= football_defenderr_per[\"weighted_average\"].quantile(0.7)] \n",
    "high_30_percent_defenderr = high_30_percent_defenderr.sort_values(\"weighted_average\", ascending = False)\n",
    "display(high_30_percent_defenderr)\n",
    "\n",
    "#midfielder_performance\n",
    "\n",
    "football_midfielder_per = football_midfielder_2.dropna(subset = [\"Player_MarketValue\"])\n",
    "football_midfielder_per[\"cards\"] = football_midfielder_per[\"yellow_cards\"] + football_midfielder_per[\"second_yellow_cards\"] + football_midfielder_per[\"red_cards\"]\n",
    "football_midfielder_per = football_midfielder_per[[\"Player_name\", \"goals\", \"asists\", \"cards\", \"minutes_played\", \"appearances\", \"goals_per_minute\"]]\n",
    "football_midfielder_per[\"weighted_average\"] = ((football_midfielder_per[\"appearances\"]/football_midfielder_per[\"minutes_played\"] ) * 0.4 + ( football_midfielder_per[\"asists\"]) * 0.4 + football_midfielder_per[\"goals\"] * 0.2).round(2)\n",
    "football_midfielder_per = football_midfielder_per[[\"Player_name\", \"weighted_average\"]]\n",
    "football_midfielder_per = football_midfielder_per.dropna(subset = [\"weighted_average\"])\n",
    "football_midfielder_per.drop_duplicates(inplace = True)\n",
    "high_30_percent_midfielder =  football_midfielder_per[football_midfielder_per[\"weighted_average\"] >= football_midfielder_per[\"weighted_average\"].quantile(0.7)] \n",
    "high_30_percent_midfielder = high_30_percent_midfielder.sort_values(\"weighted_average\", ascending = False)\n",
    "display(high_30_percent_midfielder)\n",
    "\n",
    "#striker_performance\n",
    "\n",
    "football_striker_per = football_striker_2.dropna(subset = [\"Player_MarketValue\"])\n",
    "football_striker_per[\"cards\"] = football_striker_per[\"yellow_cards\"] + football_striker_per[\"second_yellow_cards\"] + football_striker_per[\"red_cards\"]\n",
    "football_striker_per = football_striker_per[[\"Player_name\", \"goals_per_minute\", \"goals\", \"asists\", \"minutes_played\", \"appearances\"]]\n",
    "football_striker_per[\"weighted_average\"] = football_striker_per[\"goals\"] + football_striker_per[\"asists\"]\n",
    "football_striker_per = football_striker_per[[\"Player_name\", \"weighted_average\"]]\n",
    "football_striker_per = football_striker_per.dropna(subset = [\"weighted_average\"])\n",
    "football_striker_per.drop_duplicates(inplace = True)\n",
    "high_30_percent_striker =  football_striker_per[football_striker_per[\"weighted_average\"] >= football_striker_per[\"weighted_average\"].quantile(0.7)] \n",
    "high_30_percent_striker = high_30_percent_striker.sort_values(\"weighted_average\", ascending = False)\n",
    "display(high_30_percent_striker)"
   ]
  },
  {
   "attachments": {},
   "cell_type": "markdown",
   "metadata": {},
   "source": [
    "Part One 🕐"
   ]
  },
  {
   "cell_type": "code",
   "execution_count": null,
   "metadata": {
    "dotnet_interactive": {
     "language": "csharp"
    },
    "polyglot_notebook": {
     "kernelName": "csharp"
    },
    "vscode": {
     "languageId": "polyglot-notebook"
    }
   },
   "outputs": [],
   "source": [
    "bottom_40_names = list(bottom_40_percent[\"Player_name\"])\n",
    "goalkeeper_names = list(high_30_percent_goalkeeper[\"Player_name\"])\n",
    "defender_names = list(high_30_percent_defenderr[\"Player_name\"])\n",
    "midfielder_names = list(high_30_percent_midfielder[\"Player_name\"])\n",
    "striker_names = list(high_30_percent_striker[\"Player_name\"])\n",
    "intersection_list = []\n",
    "for i in [goalkeeper_names, defender_names, midfielder_names, striker_names]:\n",
    "    for j in i:\n",
    "        if j in bottom_40_names:\n",
    "            intersection_list += [j]\n",
    "intersection_df = pd.DataFrame({\"Player_name\" : intersection_list})\n",
    "display(intersection_df)\n",
    "\n",
    "#WordCloud\n",
    "text = \"\"\n",
    "for i in intersection_list:\n",
    "    text += i.replace(\" \", \"\")\n",
    "    text += \" \"\n",
    "\n",
    "wc = WordCloud(width = 800, height = 800, background_color = \"white\", colormap = \"magma\")\n",
    "wc.generate(text)\n",
    "plt.figure(figsize = (8, 8))\n",
    "plt.imshow(wc, interpolation = \"bilinear\")\n",
    "plt.axis(\"off\")\n",
    "plt.show()"
   ]
  },
  {
   "cell_type": "code",
   "execution_count": null,
   "metadata": {
    "dotnet_interactive": {
     "language": "csharp"
    },
    "polyglot_notebook": {
     "kernelName": "csharp"
    },
    "vscode": {
     "languageId": "polyglot-notebook"
    }
   },
   "outputs": [],
   "source": [
    "#table\n",
    "\n",
    "num_columns = 5 \n",
    "num_rows = -(-len(intersection_list) // num_columns)\n",
    "fig, ax = plt.subplots(figsize = (10, 8))\n",
    "ax.axis(\"off\")\n",
    "table_data = [intersection_list[i:i+num_columns] for i in range(0, len(intersection_list), num_columns)]\n",
    "table = ax.table(cellText = table_data, cellLoc = \"center\", loc = \"center\")\n",
    "table.auto_set_font_size(False)\n",
    "table.set_fontsize(12)\n",
    "table.scale(1.2, 1.2)\n",
    "colors = [\"#4B8BBE\", \"#FFE873\"]\n",
    "row_idx = 0\n",
    "col_idx = 0\n",
    "for key, cell in table.get_celld().items():\n",
    "    cell.get_text().set_fontweight(\"bold\")\n",
    "    if row_idx % 2 == 0:\n",
    "        cell.set_facecolor(colors[col_idx % 2])\n",
    "    else:\n",
    "        cell.set_facecolor(colors[(col_idx + 1) % 2])\n",
    "    col_idx += 1\n",
    "    if col_idx % num_columns == 0:\n",
    "        row_idx += 1\n",
    "plt.show()"
   ]
  },
  {
   "attachments": {},
   "cell_type": "markdown",
   "metadata": {},
   "source": [
    "Part Two 🕑"
   ]
  },
  {
   "cell_type": "code",
   "execution_count": null,
   "metadata": {
    "dotnet_interactive": {
     "language": "csharp"
    },
    "polyglot_notebook": {
     "kernelName": "csharp"
    },
    "vscode": {
     "languageId": "polyglot-notebook"
    }
   },
   "outputs": [],
   "source": [
    "part_one_values = (intersection_df.merge(coaches_requests, on = \"Player_name\", how = \"inner\")).drop_duplicates(subset = \"Player_name\")\n",
    "part_one_values = part_one_values[[\"Player_name\", \"Player_MarketValue\"]]\n",
    "\n",
    "sns.set(style = \"whitegrid\")\n",
    "sns.histplot(data = part_one_values, x = \"Player_MarketValue\", kde = True, color = \"blue\", label = \"Part One Values\")\n",
    "sns.histplot(data = coaches_requests, x = \"Player_MarketValue\", kde = True, color = \"orange\", label = \"All Players Values\")\n",
    "plt.title(\"Histogram of Player Market Value\")\n",
    "plt.xlabel(\"Player Market Value\")\n",
    "plt.ylabel(\"Count\")\n",
    "plt.legend()\n",
    "plt.show()\n",
    "\n",
    "fig, axes = plt.subplots(1, 2, figsize = (12, 6))\n",
    "sns.histplot(data = part_one_values, x = \"Player_MarketValue\", kde = True, ax = axes[0], color = \"blue\")\n",
    "axes[0].set_title(\"Part One Players Market Values\")\n",
    "sns.histplot(data = coaches_requests, x = \"Player_MarketValue\", kde = True, ax = axes[1], color = \"orange\")\n",
    "axes[1].set_title(\"All Players Market Values\")\n",
    "plt.tight_layout()\n",
    "plt.show()"
   ]
  },
  {
   "attachments": {},
   "cell_type": "markdown",
   "metadata": {},
   "source": [
    "Part Three 🕒"
   ]
  },
  {
   "cell_type": "code",
   "execution_count": null,
   "metadata": {
    "dotnet_interactive": {
     "language": "csharp"
    },
    "polyglot_notebook": {
     "kernelName": "csharp"
    },
    "vscode": {
     "languageId": "polyglot-notebook"
    }
   },
   "outputs": [],
   "source": [
    "for i in [high_30_percent_goalkeeper, high_30_percent_defenderr, high_30_percent_midfielder, high_30_percent_striker]:\n",
    "    min_val = i[\"weighted_average\"].min()\n",
    "    max_val = i[\"weighted_average\"].max()\n",
    "    scaled_values = 9 - (((i[\"weighted_average\"] - min_val) / (max_val - min_val)) * 10).round(2)\n",
    "    i[\"weighted_average\"] = scaled_values\n",
    "combined_df_part_one = (pd.concat([high_30_percent_goalkeeper, high_30_percent_defenderr, high_30_percent_midfielder, high_30_percent_striker])).reset_index(drop = True)\n",
    "combined_df_part_one = (pd.merge(bottom_40_percent, combined_df_part_one, on = \"Player_name\", how = \"inner\")).drop_duplicates()\n",
    "combined_df_part_one = combined_df_part_one[[\"Player_name\", \"weighted_average\", \"Player_possition\", \"Player_MarketValue\"]]\n",
    "combined_df_part_one = combined_df_part_one.sort_values(\"weighted_average\", ascending = False)\n",
    "display(combined_df_part_one)\n",
    "\n",
    "for i in [football_goalkeeper_per, football_defenderr_per, football_midfielder_per, football_striker_per]:\n",
    "    min_val = i[\"weighted_average\"].min()\n",
    "    max_val = i[\"weighted_average\"].max()\n",
    "    scaled_values = (((i[\"weighted_average\"] - min_val) / (max_val - min_val)) * 10).round(2)\n",
    "    i[\"weighted_average\"] = scaled_values\n",
    "combined_df_all = (pd.concat([football_goalkeeper_per, football_defenderr_per, football_midfielder_per, football_striker_per])).reset_index(drop = True)\n",
    "combined_df_all = (pd.merge(combined_df_all, coaches_requests, on = \"Player_name\", how = \"inner\")).drop_duplicates()\n",
    "combined_df_all = combined_df_all[[\"Player_name\", \"weighted_average\", \"Player_possition\", \"Player_MarketValue\"]]\n",
    "\n",
    "fig, axes = plt.subplots(1, 2, figsize = (12, 6))\n",
    "sns.histplot(data = combined_df_part_one, x = \"weighted_average\", kde = True, ax = axes[0], color = \"blue\")\n",
    "axes[0].set_title(\"Part One Players Metrics\")\n",
    "sns.histplot(data = combined_df_all, x = \"weighted_average\", kde = True, ax = axes[1], color = \"orange\")\n",
    "axes[1].set_title(\"All Players Metrics\")\n",
    "plt.tight_layout()\n",
    "plt.show()"
   ]
  },
  {
   "attachments": {},
   "cell_type": "markdown",
   "metadata": {},
   "source": [
    "Part Four 🕓"
   ]
  },
  {
   "cell_type": "code",
   "execution_count": null,
   "metadata": {
    "dotnet_interactive": {
     "language": "csharp"
    },
    "polyglot_notebook": {
     "kernelName": "csharp"
    },
    "vscode": {
     "languageId": "polyglot-notebook"
    }
   },
   "outputs": [],
   "source": [
    "pos_req_old = combined_df_part_one.groupby(\"Player_possition\").size().reset_index(name = \"Count\")\n",
    "count_list = pos_req_old[\"Count\"].tolist()\n",
    "pos_req_new = combined_df_all.groupby(\"Player_possition\").size().reset_index(name = \"Count\")\n",
    "pos_req_new[\"count_part_one\"] = list(count_list)\n",
    "display(pos_req_new)\n",
    "\n",
    "sns.set(style = \"whitegrid\")\n",
    "fig, ax = plt.subplots(figsize = (15, 6))\n",
    "sns.barplot(x = \"Player_possition\", y = \"Count\", data = pos_req_new, ax = ax, color = \"#ff7f0e\", label = \"Count\", edgecolor = \"black\")\n",
    "sns.barplot(x = \"Player_possition\", y = \"count_part_one\", data = pos_req_new, ax = ax, color = \"#1f77b4\", label = \"Count_part_one\", edgecolor = \"black\")\n",
    "ax.set_xlabel(\"Player Position\", fontsize = 12, weight = \"bold\")\n",
    "ax.set_ylabel(\"Count\", fontsize = 12, weight = \"bold\")\n",
    "ax.set_title(\"Distribution of Player Positions\", fontsize = 14, weight = \"bold\")\n",
    "ax.set_xticklabels(ax.get_xticklabels(), rotation = 45, ha = \"right\")\n",
    "ax.legend()\n",
    "for patch in ax.patches:\n",
    "    height = patch.get_height()\n",
    "    ax.text(patch.get_x() + patch.get_width() / 2, height, f\"{height:.0f}\", ha = \"center\", va = \"bottom\")\n",
    "plt.show()"
   ]
  },
  {
   "attachments": {},
   "cell_type": "markdown",
   "metadata": {},
   "source": [
    "Part Five 🕔"
   ]
  },
  {
   "cell_type": "code",
   "execution_count": null,
   "metadata": {
    "dotnet_interactive": {
     "language": "csharp"
    },
    "polyglot_notebook": {
     "kernelName": "csharp"
    },
    "vscode": {
     "languageId": "polyglot-notebook"
    }
   },
   "outputs": [],
   "source": [
    "combined_df_all = combined_df_all.sort_values(\"weighted_average\", ascending = False)\n",
    "display(combined_df_all)\n",
    "\n",
    "remove_worst = combined_df_all[combined_df_all[\"weighted_average\"] >= combined_df_all[\"weighted_average\"].quantile(0.25)]\n",
    "display(remove_worst)\n",
    "\n",
    "removed_players = combined_df_all[combined_df_all[\"weighted_average\"] < combined_df_all[\"weighted_average\"].quantile(0.25)]\n",
    "display(removed_players)"
   ]
  },
  {
   "attachments": {},
   "cell_type": "markdown",
   "metadata": {},
   "source": [
    "فرضیه‌ی اول 🥓"
   ]
  },
  {
   "cell_type": "code",
   "execution_count": null,
   "metadata": {
    "dotnet_interactive": {
     "language": "csharp"
    },
    "polyglot_notebook": {
     "kernelName": "csharp"
    },
    "vscode": {
     "languageId": "polyglot-notebook"
    }
   },
   "outputs": [],
   "source": [
    "player_stats = pd.read_csv(\"players_stats.csv\")\n",
    "player_stats[\"minutes_played\"] = player_stats[\"minutes_played\"].str.replace(\".\", \"\").str.replace(\"'\", \"\").replace(\"-\", np.nan)\n",
    "player_stats[\"minutes_played\"] = player_stats[\"minutes_played\"].fillna(\"0\").astype(int)\n",
    "player_stats[\"minutes_played\"] = player_stats[\"minutes_played\"].astype(int)\n",
    "player_stats[\"goals_conceded\"] = player_stats[\"goals_conceded\"].str.replace(\".\", \"\").str.replace(\"'\", \"\").replace(\"-\", np.nan)\n",
    "player_stats[\"goals_conceded\"] = player_stats[\"goals_conceded\"].fillna(\"0\").astype(int)\n",
    "player_stats[\"goals_conceded\"] = player_stats[\"goals_conceded\"].astype(int)\n",
    "player_stats[\"clean_sheets\"] = player_stats[\"clean_sheets\"].str.replace(\".\", \"\").str.replace(\"'\", \"\").replace(\"-\", np.nan)\n",
    "player_stats[\"clean_sheets\"] = player_stats[\"clean_sheets\"].fillna(\"0\").astype(int)\n",
    "player_stats[\"clean_sheets\"] = player_stats[\"clean_sheets\"].astype(int)\n",
    "player_stats[\"appearances\"] = player_stats[\"appearances\"].replace(\"-\", np.nan)\n",
    "player_stats[\"appearances\"] = player_stats[\"appearances\"].fillna(\"0\").astype(float).astype(int)\n",
    "player_stats[\"goals\"] = player_stats[\"goals\"].replace(\".\", np.nan).replace(\"'\", \"\").replace(\"-\", np.nan)\n",
    "player_stats[\"goals\"] = player_stats[\"goals\"].fillna(\"0\").astype(int)\n",
    "player_stats[\"goals\"] = player_stats[\"goals\"].astype(int)\n",
    "player_stats[\"asists\"] = player_stats[\"asists\"].replace(\".\", np.nan).replace(\"'\", \"\").replace(\"-\", np.nan)\n",
    "player_stats[\"asists\"] = player_stats[\"asists\"].fillna(\"0\").astype(int)\n",
    "player_stats[\"asists\"] = player_stats[\"asists\"].astype(int)\n",
    "player_stats[\"yellow_cards\"] = player_stats[\"yellow_cards\"].replace(\".\", np.nan).replace(\"'\", \"\").replace(\"-\", np.nan)\n",
    "player_stats[\"yellow_cards\"] = player_stats[\"yellow_cards\"].fillna(\"0\").astype(int)\n",
    "player_stats[\"yellow_cards\"] = player_stats[\"yellow_cards\"].astype(int)\n",
    "player_stats[\"second_yellow_cards\"] = player_stats[\"second_yellow_cards\"].replace(\".\", np.nan).replace(\"'\", \"\").replace(\"-\", np.nan)\n",
    "player_stats[\"second_yellow_cards\"] = player_stats[\"second_yellow_cards\"].fillna(\"0\").astype(int)\n",
    "player_stats[\"second_yellow_cards\"] = player_stats[\"second_yellow_cards\"].astype(int)\n",
    "player_stats[\"red_cards\"] = player_stats[\"red_cards\"].replace(\".\", np.nan).replace(\"'\", \"\").replace(\"-\", np.nan)\n",
    "player_stats[\"red_cards\"] = player_stats[\"red_cards\"].fillna(\"0\").astype(int)\n",
    "player_stats[\"red_cards\"] = player_stats[\"red_cards\"].astype(int)\n",
    "player_stats.rename (columns = {\"id\" : \"PlayerID\"}, inplace = True)\n",
    "player_stats[\"appearances\"] = player_stats[\"appearances\"].replace(\"-\", np.nan)\n",
    "player_stats[\"appearances\"] = player_stats[\"appearances\"].fillna(\"0\").astype(float).astype(int)\n",
    "display(player_stats)"
   ]
  },
  {
   "cell_type": "code",
   "execution_count": null,
   "metadata": {
    "dotnet_interactive": {
     "language": "csharp"
    },
    "polyglot_notebook": {
     "kernelName": "csharp"
    },
    "vscode": {
     "languageId": "polyglot-notebook"
    }
   },
   "outputs": [],
   "source": [
    "players_data = pd.read_csv(\"players_data.csv\") \n",
    "players_transfers = pd.read_csv(\"players_transfers.csv\") \n",
    "players_transfers_stats = pd.read_csv(\"players_stats.csv\")\n",
    "\n",
    "players_transfers_zf = players_transfers.copy()\n",
    "players_transfers_zf[\"season\"] = players_transfers_zf[\"season\"].apply(lambda x: 2000 + int(x.split(\"/\")[0]))\n",
    "players_transfers_zf = players_transfers_zf[(players_transfers_zf[\"season\"] <= 2021) & (players_transfers_zf[\"season\"] >= 2021)]\n",
    "\n",
    "players_transfers_zf = pd.merge(players_data, players_transfers_zf, on = [\"player_id\"])\n",
    "players_transfers_zf = players_transfers_zf[[\"player_id\", \"given_name\", \"date_of_birth\", \"season\", \"date\", \"joined\", \"mv\", \"fee\"]]\n",
    "\n",
    "age_list=[]\n",
    "for i in range(len(players_transfers_zf)):\n",
    "    if players_transfers_zf.loc[i,\"date_of_birth\"] is not np.nan and players_transfers_zf.loc[i, \"date\"] is not np.nan:\n",
    "        try:\n",
    "            season_date = datetime.strptime(players_transfers_zf.loc[i, \"date\"], \"%b %d, %Y\")\n",
    "        except ValueError:\n",
    "            season_date = datetime.strptime(players_transfers_zf.loc[i, \"date\"], \"%d-%b-%y\")\n",
    "\n",
    "        try:\n",
    "            birth_date = datetime.strptime(players_transfers_zf.loc[i, \"date_of_birth\"], \"%b %d, %Y\")\n",
    "            age = (season_date - birth_date).days // 365\n",
    "        except ValueError:\n",
    "            birth_date = datetime.strptime(players_transfers_zf.loc[i, \"date_of_birth\"], \"%d-%b-%y\")\n",
    "            age = (season_date - birth_date).days // 365\n",
    "\n",
    "        age_list.append(age)\n",
    "    else:\n",
    "        age_list.append(np.nan)\n",
    "\n",
    "players_transfers_zf[\"age\"] = age_list\n",
    "players_transfers_zf.drop(columns = [\"date\", \"date_of_birth\"], inplace = True)\n",
    "players_transfers_zf = pd.merge(players_transfers_zf, player_stats.rename(columns={\"PlayerID\": \"player_id\"}), on = [\"player_id\"]).drop_duplicates()\n",
    "players_transfers_zf = players_transfers_zf[[\"player_id\", \"given_name\", \"age\", \"season\", \"joined\", \"mv\", \"fee\", \"goals\", \"clean_sheets\", \"goals_conceded\", \"minutes_played\", \"appearances\"]]\n",
    "players_transfers_zf = pd.merge(players_transfers_zf, club_players.rename(columns={\"PlayerID\": \"player_id\", \"Season\": \"season\"}), on = [\"player_id\", \"season\"])\n",
    "players_transfers_zf = players_transfers_zf[[\"player_id\", \"given_name\", \"age\", \"season\", \"joined\", \"mv\", \"fee\", \"Player_possition\", \"goals\", \"clean_sheets\", \"goals_conceded\", \"minutes_played\", \"appearances\"]]\n",
    "football_striker_zf = players_transfers_zf[players_transfers_zf[\"Player_possition\"].isin([\"Centre-Forward\", \"Right Winger\", \"Left Winger\", \"Second Striker\"])]\n",
    "experienced = football_striker_zf[football_striker_zf[\"age\"] >= 30]\n",
    "less_experienced = football_striker_zf[football_striker_zf[\"age\"] < 30]\n",
    "sns.histplot(experienced[\"goals\"], alpha = 0.5, kde = True, color = \"red\", label = \"experienced\")\n",
    "sns.histplot(less_experienced[\"goals\"], alpha = 0.5, kde = True, color = \"blue\", label = \"less_experienced\")\n",
    "plt.legend()\n",
    "plt.title(\"Goals scored by experienced and less-experienced strikers\")\n",
    "plt.show()"
   ]
  },
  {
   "attachments": {},
   "cell_type": "markdown",
   "metadata": {},
   "source": [
    "فرضیه‌ی دوم 🍗"
   ]
  },
  {
   "cell_type": "code",
   "execution_count": null,
   "metadata": {
    "dotnet_interactive": {
     "language": "csharp"
    },
    "polyglot_notebook": {
     "kernelName": "csharp"
    },
    "vscode": {
     "languageId": "polyglot-notebook"
    }
   },
   "outputs": [],
   "source": [
    "comparison_fz = Comparison.copy()\n",
    "comparison_fz = comparison_fz[[\"League\", \"Club\", \"Rank\", \"goals\"]].sort_values(\"Rank\")\n",
    "comparison_fz[\"Champions\"] = comparison_fz[\"Rank\"].isin([1, 2, 3, 4])\n",
    "comparison_fz.loc[(comparison_fz[\"League\"] == \"Serie A\") & (comparison_fz[\"Rank\"] == 4), \"Champions\"] = False\n",
    "comparison_fz[comparison_fz[\"Champions\"]][\"Club\"].sort_values()\n",
    "ttest_ind(comparison_fz[comparison_fz[\"Champions\"] == True][\"goals\"], comparison_fz[comparison_fz[\"Champions\"] == False][\"goals\"])\n",
    "sns.histplot(comparison_fz[comparison_fz[\"Champions\"]==True][\"goals\"], kde = True, color = \"red\", alpha = 0.4, label = \"Champions League\")\n",
    "sns.histplot(comparison_fz[comparison_fz[\"Champions\"] == False][\"goals\"], kde = True, color = \"blue\", alpha = 0.4, label = \"Non-Champions League\")\n",
    "plt.legend()\n",
    "plt.title(\"Goals scored by Champions and Non-Champions\")\n",
    "plt.show()"
   ]
  }
 ],
 "metadata": {
  "kernelspec": {
   "display_name": "qenv",
   "language": "python",
   "name": "qenv"
  },
  "language_info": {
   "codemirror_mode": {
    "name": "ipython",
    "version": 3
   },
   "file_extension": ".py",
   "mimetype": "text/x-python",
   "name": "python",
   "nbconvert_exporter": "python",
   "pygments_lexer": "ipython3",
   "version": "3.9.6"
  },
  "orig_nbformat": 4
 },
 "nbformat": 4,
 "nbformat_minor": 2
}
