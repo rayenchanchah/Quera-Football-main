{
 "cells": [
  {
   "cell_type": "code",
   "execution_count": 1,
   "id": "771e998e",
   "metadata": {},
   "outputs": [],
   "source": [
    "import matplotlib as mpl\n",
    "import matplotlib.pyplot as plt\n",
    "import numpy as np\n",
    "import pandas as pd\n",
    "import re\n",
    "import json\n",
    "from sklearn.ensemble import RandomForestRegressor\n",
    "from sklearn.metrics import mean_absolute_percentage_error"
   ]
  },
  {
   "cell_type": "code",
   "execution_count": 2,
   "id": "0284db92",
   "metadata": {},
   "outputs": [
    {
     "name": "stdout",
     "output_type": "stream",
     "text": [
      "   Unnamed: 0          League  Season  ClubID       Player_name  PlayerID  \\\n",
      "0           0  Premier League    2015     631  Thibaut Courtois    108390   \n",
      "1           1  Premier League    2015     631     Asmir Begovic     33873   \n",
      "2           2  Premier League    2015     631    Jamal Blackman    128898   \n",
      "3           3  Premier League    2015     631      Marco Amelia     16810   \n",
      "4           4  Premier League    2015     631        Kurt Zouma    157509   \n",
      "\n",
      "  Player_MarketValue Player_possition  \n",
      "0           €35.00m        Goalkeeper  \n",
      "1           €12.00m        Goalkeeper  \n",
      "2             €250k        Goalkeeper  \n",
      "3             €250k        Goalkeeper  \n",
      "4           €17.00m       Centre-Back  \n",
      "   Season  ClubID avgMarketValue          League  avgAge\n",
      "0    2015     631        €13.84m  Premier League    24.7\n",
      "1    2015     281        €13.14m  Premier League    25.4\n",
      "2    2015      11        €11.17m  Premier League    24.7\n",
      "3    2015     985        €10.00m  Premier League    23.5\n",
      "4    2015      31         €8.53m  Premier League    23.4\n",
      "   player_id          given_name date_of_birth  caps  height  goals\n",
      "0     465955        Marcin Bulka   Oct 4, 1999   1.0   199.0    0.0\n",
      "1       2998         Robert Huth  Aug 18, 1984  19.0     NaN    2.0\n",
      "2     406633           Nya Kirby  Jan 31, 2000  10.0   174.0    1.0\n",
      "3      81512  Christian Kabasele  Feb 24, 1991   2.0   187.0    0.0\n",
      "4     122980            Ali Gabr  Jan 10, 1989  31.0   193.0    1.0\n"
     ]
    }
   ],
   "source": [
    "club_player_data = pd.read_csv(\"club_players.csv\")\n",
    "club_data = pd.read_csv(\"club.csv\").loc[:, [\"Season\", \"ClubID\", \"avgMarketValue\", \"League\", \"avgAge\"]]\n",
    "player_data = pd.read_csv(\"players_data.csv\").loc[: ,[\"player_id\", \"given_name\", \"date_of_birth\", \"caps\", \"height\", \"goals\"]]\n",
    "\n",
    "print(club_player_data.head())\n",
    "print(club_data.head())\n",
    "print(player_data.head())"
   ]
  },
  {
   "cell_type": "code",
   "execution_count": 3,
   "id": "a9eca53c",
   "metadata": {},
   "outputs": [],
   "source": [
    "league_to_id = {l:i for i, l in enumerate(club_player_data[\"League\"])}\n",
    "position_to_id = {p:i for i, p in enumerate(club_player_data[\"Player_possition\"])}\n",
    "player_birth = {}\n",
    "for _, r in player_data.iterrows():\n",
    "    try:\n",
    "        player_birth[r[\"player_id\"]] = int(r[\"date_of_birth\"].split(\",\")[1].replace(\" \", \"\"))\n",
    "    except Exception as e:\n",
    "        continue\n",
    "\n",
    "player_height = {r[\"player_id\"]:r[\"height\"] for _, r in player_data.iterrows()}\n",
    "club_average_age = {r[\"ClubID\"]:int(r[\"avgAge\"]) for _, r in club_data.iterrows()}\n",
    "clubs_average_market_value = {}\n",
    "for _, r in club_data.iterrows():\n",
    "    try:\n",
    "        market_value = float(r[\"avgMarketValue\"][1: len(r[\"avgMarketValue\"]) -1] or np.nan)\n",
    "    except:\n",
    "        market_value = float(r[\"avgMarketValue\"][1: len(r[\"avgMarketValue\"]) -2] or np.nan)\n",
    "    \n",
    "    market_value = market_value * 10 ** 6 if \"m\" in r[\"avgMarketValue\"] else market_value * 10 ** 3\n",
    "    clubs_average_market_value.setdefault(r[\"ClubID\"], market_value)\n",
    "\n",
    "player_goals = {r[\"player_id\"]:r[\"goals\"] for _, r in player_data.iterrows() if not pd.isnull(r[\"goals\"])}"
   ]
  },
  {
   "cell_type": "code",
   "execution_count": 4,
   "id": "1df77b00",
   "metadata": {},
   "outputs": [],
   "source": [
    "average_goal_per_position = {}\n",
    "total_season_per_player = {}\n",
    "for _, r in club_player_data.iterrows():\n",
    "    position = r[\"Player_possition\"]\n",
    "    player_id = r[\"PlayerID\"]\n",
    "    season = r[\"Season\"]\n",
    "    \n",
    "    average_goal_per_position.setdefault(position, {\"total_players\": 0, \"total_goals\": 0})\n",
    "    average_goal_per_position[position][\"total_players\"] += 1\n",
    "    average_goal_per_position[position][\"total_goals\"] += player_goals.get(player_id, 0)\n",
    "    \n",
    "    total_season_per_player.setdefault(player_id, set()).add(season)\n",
    "\n",
    "average_goal_per_position = {position: data[\"total_goals\"] / data[\"total_players\"] for position, data in average_goal_per_position.items()}\n",
    "average_goal_per_position.pop(\"Attack\", None)\n",
    "\n",
    "defensive_positions = {p: position_to_id[p] for p, average in average_goal_per_position.items() if average < 1}\n",
    "attacking_positions = {p: position_to_id[p] for p, average in average_goal_per_position.items() if average > 1}\n",
    "\n",
    "total_season_per_player = {p: len(season) for p, season in total_season_per_player.items()}"
   ]
  },
  {
   "cell_type": "code",
   "execution_count": 5,
   "id": "ea1da00b",
   "metadata": {},
   "outputs": [
    {
     "data": {
      "text/plain": [
       "'{\"Goalkeeper\": 0.0, \"Centre-Back\": 0.8371434792074897, \"Left-Back\": 0.5801566579634465, \"Right-Back\": 0.5931873479318734, \"Defensive Midfield\": 0.8880382775119617, \"Central Midfield\": 1.9294593813240821, \"Right Midfield\": 1.899441340782123, \"Attacking Midfield\": 3.348051948051948, \"Left Winger\": 3.905009759271308, \"Right Winger\": 3.710526315789474, \"Centre-Forward\": 6.5186230248307, \"midfield\": 0.46153846153846156, \"Left Midfield\": 2.9791666666666665, \"Second Striker\": 5.968503937007874, \"Defender\": 0.0}'"
      ]
     },
     "execution_count": 5,
     "metadata": {},
     "output_type": "execute_result"
    }
   ],
   "source": [
    "json.dumps(average_goal_per_position)"
   ]
  },
  {
   "cell_type": "code",
   "execution_count": 6,
   "id": "ad5fce27",
   "metadata": {},
   "outputs": [
    {
     "data": {
      "text/plain": [
       "'{\"Goalkeeper\": 25863, \"Centre-Back\": 25867, \"Left-Back\": 25870, \"Right-Back\": 25874, \"Defensive Midfield\": 25878, \"midfield\": 25498, \"Defender\": 24963}'"
      ]
     },
     "execution_count": 6,
     "metadata": {},
     "output_type": "execute_result"
    }
   ],
   "source": [
    "json.dumps(defensive_positions)"
   ]
  },
  {
   "cell_type": "code",
   "execution_count": 7,
   "id": "6955c095",
   "metadata": {},
   "outputs": [
    {
     "data": {
      "text/plain": [
       "'{\"Central Midfield\": 25883, \"Right Midfield\": 21010, \"Attacking Midfield\": 25885, \"Left Winger\": 25887, \"Right Winger\": 25891, \"Centre-Forward\": 25900, \"Left Midfield\": 25509, \"Second Striker\": 25403}'"
      ]
     },
     "execution_count": 7,
     "metadata": {},
     "output_type": "execute_result"
    }
   ],
   "source": [
    "json.dumps(attacking_positions)"
   ]
  },
  {
   "cell_type": "code",
   "execution_count": null,
   "id": "124bd3d4",
   "metadata": {},
   "outputs": [],
   "source": [
    "cleaned_data = pd.DataFrame(columns=[\"Player\", \"Season\", \"Player_Marketvalue\",\n",
    "                                     \"Position\", \"League\", \"Age\", \"Height\", \"Goals\", \"Club_Average_Marketvalue\"])\n",
    "\n",
    "extracted_data = []\n",
    "\n",
    "for _, r in club_player_data.iterrows():\n",
    "    \n",
    "    player = r[\"PlayerID\"]\n",
    "    season = r[\"Season\"]\n",
    "    club_id = r[\"ClubID\"]\n",
    "    try:\n",
    "        market_value = float(r[\"Player_MarketValue\"][1: len(r[\"Player_MarketValue\"]) -1] or np.nan)\n",
    "    except:\n",
    "        market_value = float(r[\"Player_MarketValue\"][1: len(r[\"Player_MarketValue\"]) -2] or np.nan)\n",
    "    player_market_value = market_value * 10 ** 6 if \"m\" in r[\"Player_MarketValue\"] else market_value * 10 ** 3\n",
    "    position = position_to_id.get(r[\"Player_possition\"], np.nan)\n",
    "    league = league_to_id.get(r[\"League\"], np.nan)\n",
    "    age = season - player_birth.get(r[\"PlayerID\"], club_average_age.get(r[\"ClubID\"], np.nan))\n",
    "    height = player_height.get(r[\"PlayerID\"], np.nan)\n",
    "    goals = player_goals.get(player, np.nan) / total_season_per_player.get(player, np.nan)\n",
    "    club_average_market_value = clubs_average_market_value.get(club_id, np.nan)\n",
    "    \n",
    "    if pd.isnull(position):\n",
    "        continue\n",
    "    \n",
    "    extracted_data.append({\n",
    "        \"Player\": player,\n",
    "        \"Season\": season,\n",
    "        \"Player_Marketvalue\": player_market_value,\n",
    "        \"Position\": position,\n",
    "        \"League\": league,\n",
    "        \"Age\": age,\n",
    "        \"Height\": height,\n",
    "        \"Goals\": goals,\n",
    "        \"Club_Average_Marketvalue\": club_average_market_value,\n",
    "    })\n",
    "\n",
    "cleaned_data = cleaned_data.append(extracted_data, ignore_index=True, sort=False)"
   ]
  },
  {
   "cell_type": "code",
   "execution_count": null,
   "id": "abab24fa",
   "metadata": {},
   "outputs": [],
   "source": [
    "attacker_goals_mean = cleaned_data[cleaned_data[\"Position\"].isin(attacking_positions.values())][\"Goals\"].mean()\n",
    "defender_goals_mean = cleaned_data[cleaned_data[\"Position\"].isin(defensive_positions.values())][\"Goals\"].mean()\n",
    "\n",
    "print(f\"Attack Position Mean Goals Per Season: {attacker_goals_mean}\\nDefense Position Mean Goals Per Season: {defender_goals_mean}\")"
   ]
  },
  {
   "cell_type": "code",
   "execution_count": null,
   "id": "61bf6353",
   "metadata": {},
   "outputs": [],
   "source": [
    "height_mean = cleaned_data[\"Height\"].mean()\n",
    "player_market_value_mean = cleaned_data[\"Player_Marketvalue\"].mean()\n",
    "age_mean = cleaned_data[\"Age\"].mean()\n",
    "goals_mean = cleaned_data[cleaned_data[\"Goals\"] > 1][\"Goals\"].mean()\n",
    "club_average_marketvalue_mean = cleaned_data[\"Club_Average_Marketvalue\"].mean()\n",
    "cleaned_data[\"Height\"].fillna(value=height_mean, inplace=True)\n",
    "cleaned_data[\"Player_Marketvalue\"].fillna(value=player_market_value_mean, inplace=True)\n",
    "cleaned_data[\"Age\"].fillna(value=age_mean, inplace=True)\n",
    "cleaned_data[\"Goals\"].fillna(value=goals_mean, inplace=True)\n",
    "cleaned_data[\"Club_Average_Marketvalue\"].fillna(value=club_average_marketvalue_mean, inplace=True)\n",
    "cleaned_data.head()"
   ]
  },
  {
   "cell_type": "code",
   "execution_count": null,
   "id": "a485cea5",
   "metadata": {},
   "outputs": [],
   "source": [
    "cleaned_data.drop([\"Player\", \"Season\"], axis=1, inplace=True)\n",
    "cleaned_data.head()"
   ]
  },
  {
   "cell_type": "code",
   "execution_count": null,
   "id": "233ca75f",
   "metadata": {},
   "outputs": [],
   "source": [
    "cleaned_data.describe().transpose()"
   ]
  },
  {
   "cell_type": "code",
   "execution_count": null,
   "id": "f520600c",
   "metadata": {},
   "outputs": [],
   "source": [
    "def train_and_predict_with_random_forest(data_set_name, data, label, n_estimators = 1000, train_porpotion=0.9):\n",
    "    print(f\"head of {data_set_name}:\\n{data.head()}\")\n",
    "    print(\"\\n\" * 5)\n",
    "    \n",
    "    mask = np.random.rand(len(data)) < train_porpotion\n",
    "    train = data[mask]\n",
    "    test = data[~mask]\n",
    "\n",
    "    print(f\"Total Data Consecutively: Total: {len(data)}, Train: {len(train)}, Test: {len(test)}\")\n",
    "    print(\"\\n\" * 5)\n",
    "\n",
    "    print(\"Normalizing Train and Test...\")\n",
    "    train_mean = train.mean()\n",
    "    train_std = train.std()\n",
    "\n",
    "    train = (train - train_mean) / train_std\n",
    "    test = (test - train_mean) / train_std\n",
    "\n",
    "    print(f\"Train:\\n{train.head()}\")\n",
    "    print(\"\\n\" * 3)\n",
    "    print(f\"Test:\\n{test.head()}\")\n",
    "    print(\"\\n\" * 5)\n",
    "    \n",
    "    train_labels = train[label]\n",
    "    test_labels = test[label]\n",
    "    train_features = train.drop([label], axis=1)\n",
    "    test_features = test.drop([label], axis=1)\n",
    "    \n",
    "    random_forest = RandomForestRegressor(n_estimators, random_state = 42)\n",
    "\n",
    "    print(\"Fitting labels based on features...\")\n",
    "    random_forest.fit(train_features, train_labels)\n",
    "    \n",
    "    print(\"Predicting test features...\")\n",
    "    predictions = random_forest.predict(test_features)\n",
    "    print(f\"Predictions: {predictions}\")\n",
    "    print(\"\\n\" * 5)\n",
    "    \n",
    "    error = mean_absolute_percentage_error(test_labels, predictions)\n",
    "    print(f\"Prediction Accuracy based on mean absolute percentage error: {error}\")"
   ]
  },
  {
   "cell_type": "code",
   "execution_count": null,
   "id": "469de80e",
   "metadata": {},
   "outputs": [],
   "source": [
    "attacker_positions_data = cleaned_data[cleaned_data[\"Position\"].isin(attacking_positions.values())]\n",
    "defensive_positions_data = cleaned_data[cleaned_data[\"Position\"].isin(defensive_positions.values())].drop([\"Goals\"], axis=1)"
   ]
  },
  {
   "cell_type": "code",
   "execution_count": null,
   "id": "db427f09",
   "metadata": {},
   "outputs": [],
   "source": [
    "train_and_predict_with_random_forest(\"Attacker Data Set\", attacker_positions_data, \"Player_Marketvalue\")"
   ]
  },
  {
   "cell_type": "code",
   "execution_count": null,
   "id": "375371a2",
   "metadata": {},
   "outputs": [],
   "source": [
    "train_and_predict_with_random_forest(\"Defenders Data Set\", defensive_positions_data, \"Player_Marketvalue\")"
   ]
  },
  {
   "cell_type": "code",
   "execution_count": null,
   "id": "2cf1d7e8",
   "metadata": {},
   "outputs": [],
   "source": []
  }
 ],
 "metadata": {
  "kernelspec": {
   "display_name": "Python 3 (ipykernel)",
   "language": "python",
   "name": "python3"
  },
  "language_info": {
   "codemirror_mode": {
    "name": "ipython",
    "version": 3
   },
   "file_extension": ".py",
   "mimetype": "text/x-python",
   "name": "python",
   "nbconvert_exporter": "python",
   "pygments_lexer": "ipython3",
   "version": "3.9.7"
  }
 },
 "nbformat": 4,
 "nbformat_minor": 5
}
